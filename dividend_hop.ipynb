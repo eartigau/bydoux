{
 "cells": [
  {
   "cell_type": "markdown",
   "metadata": {},
   "source": [
    "# Dividend hopping"
   ]
  },
  {
   "cell_type": "code",
   "execution_count": null,
   "metadata": {},
   "outputs": [],
   "source": [
    "case = 1"
   ]
  },
  {
   "cell_type": "code",
   "execution_count": null,
   "metadata": {},
   "outputs": [],
   "source": []
  },
  {
   "cell_type": "code",
   "execution_count": null,
   "metadata": {},
   "outputs": [],
   "source": [
    "# S&P500 vs ZSP\n",
    "\n",
    "tickers = 'ZWE.TO','ZQQ.TO' # comme le S&P500 mais avec +3%\n"
   ]
  },
  {
   "cell_type": "code",
   "execution_count": null,
   "metadata": {},
   "outputs": [],
   "source": [
    "import bydoux_tools as bt\n",
    "import numpy as np\n",
    "import matplotlib.pyplot as plt"
   ]
  },
  {
   "cell_type": "code",
   "execution_count": null,
   "metadata": {},
   "outputs": [
    {
     "ename": "NameError",
     "evalue": "name 'bt' is not defined",
     "output_type": "error",
     "traceback": [
      "\u001b[0;31m---------------------------------------------------------------------------\u001b[0m",
      "\u001b[0;31mNameError\u001b[0m                                 Traceback (most recent call last)",
      "Cell \u001b[0;32mIn[1], line 2\u001b[0m\n\u001b[1;32m      1\u001b[0m \u001b[38;5;66;03m# Read the historical quotes for both tickers using the custom bydoux_tools function.\u001b[39;00m\n\u001b[0;32m----> 2\u001b[0m tbl1 \u001b[38;5;241m=\u001b[39m \u001b[43mbt\u001b[49m\u001b[38;5;241m.\u001b[39mread_quotes(tickers[\u001b[38;5;241m0\u001b[39m])\n\u001b[1;32m      3\u001b[0m tbl2 \u001b[38;5;241m=\u001b[39m bt\u001b[38;5;241m.\u001b[39mread_quotes(tickers[\u001b[38;5;241m1\u001b[39m])\n\u001b[1;32m      5\u001b[0m \u001b[38;5;66;03m# Find the maximum of the first available dates (start of overlapping period)\u001b[39;00m\n",
      "\u001b[0;31mNameError\u001b[0m: name 'bt' is not defined"
     ]
    }
   ],
   "source": [
    "# Read the historical quotes for both tickers using the custom bydoux_tools function.\n",
    "tbl1 = bt.read_quotes(tickers[0])\n",
    "tbl2 = bt.read_quotes(tickers[1])\n",
    "\n",
    "# Find the maximum of the first available dates (start of overlapping period)\n",
    "mini = np.max([tbl1['mjd'][0], tbl2['mjd'][0]])\n",
    "# Find the minimum of the last available dates (end of overlapping period)\n",
    "maxi = np.min([tbl1['mjd'][-1], tbl2['mjd'][-1]])\n",
    "\n",
    "# Create boolean masks for each table, keeping only rows within the overlapping date range\n",
    "keep1 = (tbl1['mjd'] >= mini) & (tbl1['mjd'] <= maxi)\n",
    "keep2 = (tbl2['mjd'] >= mini) & (tbl2['mjd'] <= maxi)\n",
    "\n",
    "tbl1 = tbl1[keep1]\n",
    "tbl2 = tbl2[keep2]\n",
    "\n",
    "\n",
    "\n",
    "div_day = tbl1['Dividends'] !=0\n",
    "\n",
    "portfolio = 10000\n",
    "\n",
    "#n1 = 0\n",
    "#n2 = portfolio/tbl1['Close'][0]\n",
    "\n",
    "val = []\n",
    "t = []\n",
    "for i in range(1,len(tbl1)-3):\n",
    "    if True not in div_day[i-1:i+2]:\n",
    "        portfolio = portfolio * tbl2['Close'][i+1] / tbl2['Close'][i]\n",
    "    else:\n",
    "        portfolio = portfolio * tbl1['Close_dividends'][i+1] / tbl1['Close_dividends'][i]\n",
    "    print(portfolio)\n",
    "    val.append(portfolio)\n",
    "    t.append(tbl1['mjd'][i+1])\n",
    "\n",
    "val = np.array(val)\n",
    "t = np.array(t)\n",
    "\n",
    "\n",
    "print(np.polyfit(t/365,np.log(val),1))\n",
    "\n",
    "\n",
    "plt.plot(t,val)\n",
    "plt.xlabel('Date')\n",
    "plt.ylabel('Portfolio Value')\n",
    "plt.title('Portfolio Value Over Time')\n",
    "plt.show()\n"
   ]
  }
 ],
 "metadata": {
  "kernelspec": {
   "display_name": "p3.12",
   "language": "python",
   "name": "python3"
  },
  "language_info": {
   "codemirror_mode": {
    "name": "ipython",
    "version": 3
   },
   "file_extension": ".py",
   "mimetype": "text/x-python",
   "name": "python",
   "nbconvert_exporter": "python",
   "pygments_lexer": "ipython3",
   "version": "3.12.2"
  }
 },
 "nbformat": 4,
 "nbformat_minor": 2
}

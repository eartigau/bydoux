{
 "cells": [
  {
   "cell_type": "code",
   "execution_count": 1,
   "id": "b904b8ce",
   "metadata": {},
   "outputs": [
    {
     "name": "stderr",
     "output_type": "stream",
     "text": [
      "                                                                       "
     ]
    },
    {
     "name": "stdout",
     "output_type": "stream",
     "text": [
      "00:03:09.813 |  Cotisations récentes : 15 718,61$\n",
      "00:03:09.814 |  Droit de cotisation restants : 17 785,94$\n"
     ]
    },
    {
     "name": "stderr",
     "output_type": "stream",
     "text": [
      "\r"
     ]
    }
   ],
   "source": [
    "# ==============================================================================\n",
    "# SUIVI DES COTISATIONS CELI (Compte d'épargne libre d'impôt)\n",
    "# ==============================================================================\n",
    "# Ce script suit les cotisations CELI et calcule les droits de cotisation restants\n",
    "# pour l'année fiscale en cours. Il récupère les données de transaction de Disnat\n",
    "# et compare les cotisations récentes avec la limite annuelle de cotisation.\n",
    "\n",
    "# ==============================================================================\n",
    "# IMPORTATIONS ET DÉPENDANCES\n",
    "# ==============================================================================\n",
    "# Importer les outils personnalisés pour lire les Google Sheets et les données financières\n",
    "from bydoux_tools import read_google_sheet_csv\n",
    "import warnings\n",
    "import numpy as np\n",
    "from scipy.optimize import minimize\n",
    "import bydoux_tools as bt  # Module d'outils financiers personnalisés\n",
    "from astropy.time import Time, TimeDelta  # Pour les calculs de temps précis\n",
    "from astropy.table import Table  # Pour les tables de données structurées\n",
    "import matplotlib.pyplot as plt\n",
    "import matplotlib.cm as cm\n",
    "import matplotlib.colors as mcolors\n",
    "from tqdm import tqdm  # Barres de progression pour les boucles\n",
    "import matplotlib.cm as cm\n",
    "\n",
    "# ==============================================================================\n",
    "# PARAMÈTRES DES COTISATIONS CELI POUR 2025\n",
    "# ==============================================================================\n",
    "# Limite annuelle de cotisation CELI telle que publiée par l'Agence du revenu du Canada (ARC)\n",
    "# Cette valeur doit être mise à jour chaque année lorsque l'ARC annonce la nouvelle limite\n",
    "# Pour 2025, les droits de cotisation cumulatifs sont de 33 504,55 $\n",
    "droit_cotisation = 33504.55  # Droits de cotisation CELI totaux disponibles (CAD)\n",
    "\n",
    "# Définir la date de début pour le suivi des cotisations (généralement le 1er janvier de l'année en cours)\n",
    "# Cela détermine quelles cotisations comptent pour la limite de l'année en cours\n",
    "date_cotisation = Time('2025-01-01', format='iso')\n",
    "\n",
    "# ==============================================================================\n",
    "# VALIDATION : VÉRIFIER SI LA DATE DE COTISATION CORRESPOND À L'ANNÉE EN COURS\n",
    "# ==============================================================================\n",
    "# S'assurer que la date de suivi des cotisations correspond à l'année en cours\n",
    "# Sinon, avertir l'utilisateur de mettre à jour la limite de cotisation (+7 500 $ pour la nouvelle année)\n",
    "if date_cotisation.iso[0:4] != Time.now().iso[0:4]:\n",
    "    bt.printc(f'Année de la date de cotisation ({date_cotisation.iso[0:4]}) différente de l\\'année actuelle ({Time.now().iso[0:4]})')\n",
    "    bt.printc('Vérifiez la date de cotisation et le droit de cotisation et ajouter +7500 aux droits!')\n",
    "\n",
    "# ==============================================================================\n",
    "# RÉCUPÉRATION DES DONNÉES : RÉCUPÉRER L'HISTORIQUE DES TRANSACTIONS DE DISNAT\n",
    "# ==============================================================================\n",
    "# Obtenir le résumé complet des transactions du compte de courtage Disnat\n",
    "# Cela inclut tous les types de transactions (achats, ventes, cotisations, etc.)\n",
    "tbl = bt.get_disnat_summary()\n",
    "\n",
    "# ==============================================================================\n",
    "# FILTRAGE DES DONNÉES : ISOLER LES COTISATIONS CELI\n",
    "# ==============================================================================\n",
    "# Filtrer la table des transactions pour n'inclure que les cotisations CELI\n",
    "# 'COTISATION' est le code de type de transaction pour les cotisations CELI dans Disnat\n",
    "tbl = tbl[tbl['Type de transaction'] == 'COTISATION']\n",
    "\n",
    "# Trier les transactions par date julienne modifiée (MJD) pour obtenir l'ordre chronologique\n",
    "# Cela garantit que nous traitons les cotisations dans l'ordre où elles se sont produites\n",
    "tbl = tbl[np.argsort(tbl['mjd'])]\n",
    "\n",
    "# ==============================================================================\n",
    "# CALCUL DES COTISATIONS : SOMMER LES COTISATIONS RÉCENTES\n",
    "# ==============================================================================\n",
    "# Créer un masque booléen pour identifier les cotisations effectuées après la date de début de suivi\n",
    "# Seules les cotisations après date_cotisation comptent pour la limite de l'année en cours\n",
    "g = tbl['mjd'] > date_cotisation.mjd\n",
    "\n",
    "# Sommer tous les montants de cotisation qui se sont produits après la date de début de suivi\n",
    "# \"Montant de l'opération\" contient le montant de la transaction en CAD\n",
    "cotisations_recentes = np.sum(tbl[\"Montant de l'opération\"][g])\n",
    "\n",
    "# ==============================================================================\n",
    "# FORMATAGE ET AFFICHAGE DES RÉSULTATS\n",
    "# ==============================================================================\n",
    "# Formater les montants monétaires en utilisant la fonction de formatage personnalisée\n",
    "# bt.pdollar() formate les nombres comme des chaînes de devises (ex: \"1 234,56 $\")\n",
    "cotisations_txt = bt.pdollar(cotisations_recentes)\n",
    "\n",
    "# Calculer les droits de cotisation restants en soustrayant les cotisations utilisées de la limite totale\n",
    "droits_txt = bt.pdollar(droit_cotisation - cotisations_recentes)\n",
    "\n",
    "# Afficher les résultats en utilisant une sortie colorée pour une meilleure visibilité\n",
    "# bt.printc() imprime du texte coloré sur la console pour l'emphase\n",
    "bt.printc(f'Cotisations récentes : {cotisations_txt}')  # Cotisations récentes\n",
    "bt.printc(f'Droit de cotisation restants : {droits_txt}')  # Droits de cotisation restants"
   ]
  }
 ],
 "metadata": {
  "kernelspec": {
   "display_name": "p3.12",
   "language": "python",
   "name": "python3"
  },
  "language_info": {
   "codemirror_mode": {
    "name": "ipython",
    "version": 3
   },
   "file_extension": ".py",
   "mimetype": "text/x-python",
   "name": "python",
   "nbconvert_exporter": "python",
   "pygments_lexer": "ipython3",
   "version": "3.12.2"
  }
 },
 "nbformat": 4,
 "nbformat_minor": 5
}

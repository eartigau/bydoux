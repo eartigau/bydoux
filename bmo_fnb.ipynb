{
 "cells": [
  {
   "cell_type": "code",
   "execution_count": 1,
   "id": "b96bc84c",
   "metadata": {},
   "outputs": [
    {
     "name": "stderr",
     "output_type": "stream",
     "text": [
      "2it [00:00, 15.60it/s]"
     ]
    },
    {
     "name": "stdout",
     "output_type": "stream",
     "text": [
      "16:13:51.708 |  ZGI.TO\n",
      "16:13:51.791 |  ZCN.TO\n",
      "16:13:51.838 |  STPL.TO\n",
      "16:13:51.893 |  ZIU.TO\n"
     ]
    },
    {
     "name": "stderr",
     "output_type": "stream",
     "text": [
      "6it [00:00, 18.31it/s]"
     ]
    },
    {
     "name": "stdout",
     "output_type": "stream",
     "text": [
      "16:13:51.943 |  COMM.TO\n",
      "16:13:51.997 |  ZDM.TO\n",
      "16:13:52.045 |  DISC.TO\n",
      "16:13:52.088 |  ZEA.TO\n",
      "16:13:52.134 |  ZEO.TO\n"
     ]
    },
    {
     "name": "stderr",
     "output_type": "stream",
     "text": [
      "11it [00:00, 19.56it/s]"
     ]
    },
    {
     "name": "stdout",
     "output_type": "stream",
     "text": [
      "16:13:52.186 |  ZEM.TO\n",
      "16:13:52.243 |  ZGD.TO\n",
      "16:13:52.289 |  ZUE.TO\n",
      "16:13:52.341 |  ZJG.TO\n",
      "16:13:52.382 |  ZSP.TO\n"
     ]
    },
    {
     "name": "stderr",
     "output_type": "stream",
     "text": [
      "14it [00:00, 20.17it/s]"
     ]
    },
    {
     "name": "stdout",
     "output_type": "stream",
     "text": [
      "16:13:52.431 |  ZEAT.TO\n",
      "16:13:52.484 |  ZSP.U.TO\n"
     ]
    },
    {
     "name": "stderr",
     "output_type": "stream",
     "text": [
      "19it [00:05,  2.34it/s]"
     ]
    },
    {
     "name": "stdout",
     "output_type": "stream",
     "text": [
      "16:13:56.653 |  ZMT.TO\n",
      "16:13:56.706 |  ZDJ.TO\n",
      "16:13:56.765 |  ZQQ.TO\n",
      "16:13:56.825 |  ESGA.TO\n"
     ]
    },
    {
     "name": "stderr",
     "output_type": "stream",
     "text": [
      "22it [00:05,  3.44it/s]"
     ]
    },
    {
     "name": "stdout",
     "output_type": "stream",
     "text": [
      "16:13:56.870 |  ZNQ.TO\n",
      "16:13:56.919 |  ESGY.TO\n",
      "16:13:56.962 |  ZNQ.U.TO\n"
     ]
    },
    {
     "name": "stderr",
     "output_type": "stream",
     "text": [
      "24it [00:08,  1.51it/s]"
     ]
    },
    {
     "name": "stdout",
     "output_type": "stream",
     "text": [
      "16:14:00.424 |  ESGE.TO\n",
      "16:14:00.462 |  ZMID.F.TO\n"
     ]
    },
    {
     "name": "stderr",
     "output_type": "stream",
     "text": [
      "$ZMID.F.TO: possibly delisted; no timezone found\n",
      "26it [00:12,  1.00s/it]"
     ]
    },
    {
     "name": "stdout",
     "output_type": "stream",
     "text": [
      "16:14:04.302 |  ESGG.TO\n",
      "16:14:04.351 |  ZMID.TO\n",
      "16:14:04.392 |  ZGRN.TO\n",
      "16:14:04.432 |  ZMID.U.TO\n"
     ]
    },
    {
     "name": "stderr",
     "output_type": "stream",
     "text": [
      "$ZMID.U.TO: possibly delisted; no timezone found\n",
      "29it [00:13,  1.35it/s]"
     ]
    },
    {
     "name": "stdout",
     "output_type": "stream",
     "text": [
      "16:14:05.187 |  ZCLN.TO\n",
      "16:14:05.236 |  ZSML.F.TO\n"
     ]
    },
    {
     "name": "stderr",
     "output_type": "stream",
     "text": [
      "$ZSML.F.TO: possibly delisted; no timezone found\n",
      "34it [00:16,  1.61it/s]"
     ]
    },
    {
     "name": "stdout",
     "output_type": "stream",
     "text": [
      "16:14:08.216 |  ESGB.TO\n",
      "16:14:08.259 |  ZSML.TO\n",
      "16:14:08.295 |  ESGF.TO\n",
      "16:14:08.340 |  ZSML.U.TO\n"
     ]
    },
    {
     "name": "stderr",
     "output_type": "stream",
     "text": [
      "$ZSML.U.TO: possibly delisted; no timezone found\n",
      "36it [00:17,  1.80it/s]"
     ]
    },
    {
     "name": "stdout",
     "output_type": "stream",
     "text": [
      "16:14:08.996 |  ZJPN.TO\n",
      "16:14:09.078 |  ZJPN.F.TO\n"
     ]
    },
    {
     "name": "stderr",
     "output_type": "stream",
     "text": [
      "$ZJPN.F.TO: possibly delisted; no timezone found\n",
      "37it [00:20,  1.10it/s]"
     ]
    },
    {
     "name": "stdout",
     "output_type": "stream",
     "text": [
      "16:14:11.914 |  ZCS.TO\n",
      "16:14:11.965 |  ZID.TO\n",
      "16:14:12.007 |  ZCS.L.TO\n"
     ]
    },
    {
     "name": "stderr",
     "output_type": "stream",
     "text": [
      "$ZCS.L.TO: possibly delisted; no timezone found\n",
      "43it [00:21,  2.30it/s]"
     ]
    },
    {
     "name": "stdout",
     "output_type": "stream",
     "text": [
      "16:14:12.741 |  ZCH.TO\n",
      "16:14:12.793 |  ZCM.TO\n",
      "16:14:12.832 |  ZLC.TO\n",
      "16:14:12.871 |  ZLB.TO\n",
      "16:14:12.914 |  ZPS.TO\n"
     ]
    },
    {
     "name": "stderr",
     "output_type": "stream",
     "text": [
      "46it [00:21,  3.32it/s]"
     ]
    },
    {
     "name": "stdout",
     "output_type": "stream",
     "text": [
      "16:14:12.954 |  ZLH.TO\n",
      "16:14:12.995 |  ZPS.L.TO\n"
     ]
    },
    {
     "name": "stderr",
     "output_type": "stream",
     "text": [
      "$ZPS.L.TO: possibly delisted; no timezone found\n",
      "48it [00:25,  1.39it/s]"
     ]
    },
    {
     "name": "stdout",
     "output_type": "stream",
     "text": [
      "16:14:16.976 |  ZLU.TO\n",
      "16:14:17.028 |  ZFS.TO\n",
      "16:14:17.071 |  ZLU.U.TO\n"
     ]
    },
    {
     "name": "stderr",
     "output_type": "stream",
     "text": [
      "$ZLU.U.TO: possibly delisted; no timezone found\n",
      "50it [00:25,  1.63it/s]"
     ]
    },
    {
     "name": "stdout",
     "output_type": "stream",
     "text": [
      "16:14:17.651 |  ZFS.L.TO\n"
     ]
    },
    {
     "name": "stderr",
     "output_type": "stream",
     "text": [
      "$ZFS.L.TO: possibly delisted; no timezone found\n",
      "53it [00:28,  1.50it/s]"
     ]
    },
    {
     "name": "stdout",
     "output_type": "stream",
     "text": [
      "16:14:20.360 |  ZLD.TO\n",
      "16:14:20.417 |  ZMP.TO\n",
      "16:14:20.463 |  ZLI.TO\n",
      "16:14:20.510 |  ZPL.TO\n",
      "16:14:20.551 |  ZLE.TO\n"
     ]
    },
    {
     "name": "stderr",
     "output_type": "stream",
     "text": [
      "56it [00:28,  2.38it/s]"
     ]
    },
    {
     "name": "stdout",
     "output_type": "stream",
     "text": [
      "16:14:20.598 |  ZFM.TO\n",
      "16:14:20.649 |  ZUQ.F.TO\n"
     ]
    },
    {
     "name": "stderr",
     "output_type": "stream",
     "text": [
      "$ZUQ.F.TO: possibly delisted; no timezone found\n",
      "60it [00:29,  3.34it/s]"
     ]
    },
    {
     "name": "stdout",
     "output_type": "stream",
     "text": [
      "16:14:21.259 |  ZFL.TO\n",
      "16:14:21.320 |  ZUQ.TO\n",
      "16:14:21.368 |  ZUQ.U.TO\n"
     ]
    },
    {
     "name": "stderr",
     "output_type": "stream",
     "text": [
      "$ZUQ.U.TO: possibly delisted; no timezone found\n",
      "64it [00:32,  2.47it/s]"
     ]
    },
    {
     "name": "stdout",
     "output_type": "stream",
     "text": [
      "16:14:23.643 |  ZAG.TO\n",
      "16:14:23.711 |  ZGQ.TO\n",
      "16:14:23.764 |  ZSB.TO\n",
      "16:14:23.815 |  ZEQ.TO\n"
     ]
    },
    {
     "name": "stderr",
     "output_type": "stream",
     "text": [
      "69it [00:36,  1.80it/s]"
     ]
    },
    {
     "name": "stdout",
     "output_type": "stream",
     "text": [
      "16:14:27.810 |  ZCB.TO\n",
      "16:14:27.853 |  ZDV.TO\n",
      "16:14:27.906 |  ZDB.TO\n",
      "16:14:27.946 |  ZUD.TO\n",
      "16:14:27.985 |  ZSDB.TO\n"
     ]
    },
    {
     "name": "stderr",
     "output_type": "stream",
     "text": [
      "72it [00:36,  2.68it/s]"
     ]
    },
    {
     "name": "stdout",
     "output_type": "stream",
     "text": [
      "16:14:28.025 |  ZDY.TO\n",
      "16:14:28.070 |  ZCDB.TO\n",
      "16:14:28.111 |  ZDY.U.TO\n"
     ]
    },
    {
     "name": "stderr",
     "output_type": "stream",
     "text": [
      "$ZDY.U.TO: possibly delisted; no timezone found\n",
      "77it [00:37,  4.05it/s]"
     ]
    },
    {
     "name": "stdout",
     "output_type": "stream",
     "text": [
      "16:14:28.667 |  ZMMK.TO\n",
      "16:14:28.717 |  ZDH.TO\n",
      "16:14:28.761 |  ZST.TO\n",
      "16:14:28.809 |  ZDI.TO\n",
      "16:14:28.857 |  ZST.L.TO\n"
     ]
    },
    {
     "name": "stderr",
     "output_type": "stream",
     "text": [
      "$ZST.L.TO: possibly delisted; no timezone found\n",
      "79it [00:39,  1.92it/s]"
     ]
    },
    {
     "name": "stdout",
     "output_type": "stream",
     "text": [
      "16:14:31.431 |  ZVC.TO\n",
      "16:14:31.529 |  ZMBS.TO\n"
     ]
    },
    {
     "name": "stderr",
     "output_type": "stream",
     "text": [
      "81it [00:40,  2.41it/s]"
     ]
    },
    {
     "name": "stdout",
     "output_type": "stream",
     "text": [
      "16:14:31.665 |  ZVU.TO\n",
      "16:14:31.768 |  ZGB.TO\n",
      "16:14:31.851 |  ZRR.TO\n"
     ]
    },
    {
     "name": "stderr",
     "output_type": "stream",
     "text": [
      "83it [00:40,  3.04it/s]"
     ]
    },
    {
     "name": "stdout",
     "output_type": "stream",
     "text": [
      "16:14:31.973 |  ZOCT.TO\n"
     ]
    },
    {
     "name": "stderr",
     "output_type": "stream",
     "text": [
      "$ZOCT.TO: possibly delisted; no timezone found\n",
      "84it [00:40,  2.67it/s]"
     ]
    },
    {
     "name": "stdout",
     "output_type": "stream",
     "text": [
      "16:14:32.577 |  ZBI.TO\n",
      "16:14:32.632 |  ZJUL.TO\n"
     ]
    },
    {
     "name": "stderr",
     "output_type": "stream",
     "text": [
      "$ZJUL.TO: possibly delisted; no timezone found\n",
      "87it [00:43,  1.89it/s]"
     ]
    },
    {
     "name": "stdout",
     "output_type": "stream",
     "text": [
      "16:14:34.802 |  ZBBB.TO\n",
      "16:14:34.977 |  ZAPR.TO\n"
     ]
    },
    {
     "name": "stderr",
     "output_type": "stream",
     "text": [
      "$ZAPR.TO: possibly delisted; no timezone found\n",
      "88it [00:44,  1.63it/s]"
     ]
    },
    {
     "name": "stdout",
     "output_type": "stream",
     "text": [
      "16:14:35.911 |  ZQB.TO\n",
      "16:14:35.954 |  ZJAN.TO\n"
     ]
    },
    {
     "name": "stderr",
     "output_type": "stream",
     "text": [
      "$ZJAN.TO: possibly delisted; no timezone found\n",
      "90it [00:46,  1.16it/s]"
     ]
    },
    {
     "name": "stdout",
     "output_type": "stream",
     "text": [
      "16:14:38.468 |  ZUAG.TO\n",
      "16:14:38.514 |  ZWC.TO\n",
      "16:14:38.557 |  ZUAG.F.TO\n"
     ]
    },
    {
     "name": "stderr",
     "output_type": "stream",
     "text": [
      "$ZUAG.F.TO: possibly delisted; no timezone found\n",
      "93it [00:47,  1.73it/s]"
     ]
    },
    {
     "name": "stdout",
     "output_type": "stream",
     "text": [
      "16:14:39.136 |  ZWS.TO\n",
      "16:14:39.191 |  ZUAG.U.TO\n"
     ]
    },
    {
     "name": "stderr",
     "output_type": "stream",
     "text": [
      "$ZUAG.U.TO: possibly delisted; no timezone found\n",
      "97it [00:49,  1.82it/s]"
     ]
    },
    {
     "name": "stdout",
     "output_type": "stream",
     "text": [
      "16:14:41.500 |  ZWH.TO\n",
      "16:14:41.566 |  ZSU.TO\n",
      "16:14:41.617 |  ZWH.U.TO\n"
     ]
    },
    {
     "name": "stderr",
     "output_type": "stream",
     "text": [
      "$ZWH.U.TO: possibly delisted; no timezone found\n",
      "100it [00:50,  2.59it/s]"
     ]
    },
    {
     "name": "stdout",
     "output_type": "stream",
     "text": [
      "16:14:42.195 |  ZMU.TO\n",
      "16:14:42.251 |  ZWA.TO\n",
      "16:14:42.298 |  ZIC.TO\n",
      "16:14:42.350 |  ZWE.TO\n"
     ]
    },
    {
     "name": "stderr",
     "output_type": "stream",
     "text": [
      "102it [00:50,  3.58it/s]"
     ]
    },
    {
     "name": "stdout",
     "output_type": "stream",
     "text": [
      "16:14:42.410 |  ZIC.U.TO\n"
     ]
    },
    {
     "name": "stderr",
     "output_type": "stream",
     "text": [
      "$ZIC.U.TO: possibly delisted; no timezone found\n"
     ]
    },
    {
     "name": "stdout",
     "output_type": "stream",
     "text": [
      "16:14:44.511 |  ZWP.TO\n"
     ]
    },
    {
     "name": "stderr",
     "output_type": "stream",
     "text": [
      "106it [00:55,  1.58it/s]"
     ]
    },
    {
     "name": "stdout",
     "output_type": "stream",
     "text": [
      "16:14:46.860 |  ZUCM.TO\n",
      "16:14:46.913 |  ZWG.TO\n",
      "16:14:46.961 |  ZUCM.U.TO\n"
     ]
    },
    {
     "name": "stderr",
     "output_type": "stream",
     "text": [
      "$ZUCM.U.TO: possibly delisted; no timezone found\n",
      "108it [00:55,  1.86it/s]"
     ]
    },
    {
     "name": "stdout",
     "output_type": "stream",
     "text": [
      "16:14:47.545 |  ZWB.TO\n",
      "16:14:47.607 |  ZUS.U.TO\n"
     ]
    },
    {
     "name": "stderr",
     "output_type": "stream",
     "text": [
      "$ZUS.U.TO: possibly delisted; no timezone found\n",
      "109it [00:57,  1.25it/s]"
     ]
    },
    {
     "name": "stdout",
     "output_type": "stream",
     "text": [
      "16:14:49.590 |  ZWB.U.TO\n"
     ]
    },
    {
     "name": "stderr",
     "output_type": "stream",
     "text": [
      "$ZWB.U.TO: possibly delisted; no timezone found\n",
      "110it [00:58,  1.37it/s]"
     ]
    },
    {
     "name": "stdout",
     "output_type": "stream",
     "text": [
      "16:14:50.060 |  ZUS.V.TO\n"
     ]
    },
    {
     "name": "stderr",
     "output_type": "stream",
     "text": [
      "$ZUS.V.TO: possibly delisted; no timezone found\n",
      "111it [01:00,  1.03s/it]"
     ]
    },
    {
     "name": "stdout",
     "output_type": "stream",
     "text": [
      "16:14:52.111 |  ZWK.TO\n",
      "16:14:52.171 |  ZTS.TO\n"
     ]
    },
    {
     "name": "stderr",
     "output_type": "stream",
     "text": [
      "$ZTS.TO: possibly delisted; no timezone found\n",
      "113it [01:00,  1.36it/s]"
     ]
    },
    {
     "name": "stdout",
     "output_type": "stream",
     "text": [
      "16:14:52.681 |  ZWU.TO\n",
      "16:14:52.735 |  ZTS.U.TO\n"
     ]
    },
    {
     "name": "stderr",
     "output_type": "stream",
     "text": [
      "$ZTS.U.TO: possibly delisted; no timezone found\n",
      "115it [01:03,  1.16it/s]"
     ]
    },
    {
     "name": "stdout",
     "output_type": "stream",
     "text": [
      "16:14:54.848 |  ZWHC.TO\n",
      "16:14:54.904 |  ZTM.TO\n"
     ]
    },
    {
     "name": "stderr",
     "output_type": "stream",
     "text": [
      "$ZTM.TO: possibly delisted; no timezone found\n",
      "117it [01:03,  1.48it/s]"
     ]
    },
    {
     "name": "stdout",
     "output_type": "stream",
     "text": [
      "16:14:55.472 |  ZWEN.TO\n",
      "16:14:55.531 |  ZTM.U.TO\n"
     ]
    },
    {
     "name": "stderr",
     "output_type": "stream",
     "text": [
      "$ZTM.U.TO: possibly delisted; no timezone found\n",
      "119it [01:06,  1.18it/s]"
     ]
    },
    {
     "name": "stdout",
     "output_type": "stream",
     "text": [
      "16:14:57.862 |  ZWT.TO\n",
      "16:14:57.922 |  ZTL.F.TO\n"
     ]
    },
    {
     "name": "stderr",
     "output_type": "stream",
     "text": [
      "$ZTL.F.TO: possibly delisted; no timezone found\n",
      "121it [01:06,  1.47it/s]"
     ]
    },
    {
     "name": "stdout",
     "output_type": "stream",
     "text": [
      "16:14:58.508 |  ZWQT.TO\n",
      "16:14:58.559 |  ZTL.TO\n"
     ]
    },
    {
     "name": "stderr",
     "output_type": "stream",
     "text": [
      "$ZTL.TO: possibly delisted; no timezone found\n",
      "123it [01:09,  1.17it/s]"
     ]
    },
    {
     "name": "stdout",
     "output_type": "stream",
     "text": [
      "16:15:00.995 |  ZPAY.F.TO\n"
     ]
    },
    {
     "name": "stderr",
     "output_type": "stream",
     "text": [
      "$ZPAY.F.TO: possibly delisted; no timezone found\n",
      "124it [01:09,  1.21it/s]"
     ]
    },
    {
     "name": "stdout",
     "output_type": "stream",
     "text": [
      "16:15:01.697 |  ZTL.U.TO\n"
     ]
    },
    {
     "name": "stderr",
     "output_type": "stream",
     "text": [
      "$ZTL.U.TO: possibly delisted; no timezone found\n",
      "125it [01:12,  1.14s/it]"
     ]
    },
    {
     "name": "stdout",
     "output_type": "stream",
     "text": [
      "16:15:04.045 |  ZPAY.TO\n",
      "16:15:04.096 |  ZTIP.TO\n",
      "16:15:04.140 |  ZPAY.U.TO\n"
     ]
    },
    {
     "name": "stderr",
     "output_type": "stream",
     "text": [
      "$ZPAY.U.TO: possibly delisted; no timezone found\n",
      "128it [01:13,  1.36it/s]"
     ]
    },
    {
     "name": "stdout",
     "output_type": "stream",
     "text": [
      "16:15:04.880 |  ZTIP.U.TO\n"
     ]
    },
    {
     "name": "stderr",
     "output_type": "stream",
     "text": [
      "$ZTIP.U.TO: possibly delisted; no timezone found\n",
      "129it [01:15,  1.12s/it]"
     ]
    },
    {
     "name": "stdout",
     "output_type": "stream",
     "text": [
      "16:15:07.701 |  ZPH.TO\n",
      "16:15:07.761 |  ZTIP.F.TO\n"
     ]
    },
    {
     "name": "stderr",
     "output_type": "stream",
     "text": [
      "$ZTIP.F.TO: possibly delisted; no timezone found\n",
      "133it [01:16,  1.70it/s]"
     ]
    },
    {
     "name": "stdout",
     "output_type": "stream",
     "text": [
      "16:15:08.377 |  ZPW.TO\n",
      "16:15:08.430 |  ZJK.TO\n",
      "16:15:08.480 |  ZPW.U.TO\n"
     ]
    },
    {
     "name": "stderr",
     "output_type": "stream",
     "text": [
      "$ZPW.U.TO: possibly delisted; no timezone found\n",
      "134it [01:19,  1.06it/s]"
     ]
    },
    {
     "name": "stdout",
     "output_type": "stream",
     "text": [
      "16:15:10.950 |  ZHY.TO\n",
      "16:15:11.009 |  ZJK.U.TO\n"
     ]
    },
    {
     "name": "stderr",
     "output_type": "stream",
     "text": [
      "$ZJK.U.TO: possibly delisted; no timezone found\n",
      "139it [01:20,  2.22it/s]"
     ]
    },
    {
     "name": "stdout",
     "output_type": "stream",
     "text": [
      "16:15:11.752 |  ZEB.TO\n",
      "16:15:11.810 |  ZFH.TO\n",
      "16:15:11.850 |  ZUT.TO\n",
      "16:15:11.900 |  ZEF.TO\n",
      "16:15:11.948 |  ZRE.TO\n"
     ]
    },
    {
     "name": "stderr",
     "output_type": "stream",
     "text": [
      "143it [01:20,  3.79it/s]"
     ]
    },
    {
     "name": "stdout",
     "output_type": "stream",
     "text": [
      "16:15:12.001 |  ZIN.TO\n",
      "16:15:12.119 |  ZPR.TO\n",
      "16:15:12.190 |  ZUB.TO\n",
      "16:15:12.251 |  ZPR.U.TO\n"
     ]
    },
    {
     "name": "stderr",
     "output_type": "stream",
     "text": [
      "$ZPR.U.TO: possibly delisted; no timezone found\n",
      "147it [01:23,  2.50it/s]"
     ]
    },
    {
     "name": "stdout",
     "output_type": "stream",
     "text": [
      "16:15:14.632 |  ZBK.TO\n",
      "16:15:14.691 |  ZHP.TO\n",
      "16:15:14.738 |  ZUH.TO\n",
      "16:15:14.790 |  ZUP.TO\n",
      "16:15:14.835 |  ZHU.TO\n"
     ]
    },
    {
     "name": "stderr",
     "output_type": "stream",
     "text": [
      "150it [01:23,  3.58it/s]"
     ]
    },
    {
     "name": "stdout",
     "output_type": "stream",
     "text": [
      "16:15:15.006 |  ZUP.U.TO\n"
     ]
    },
    {
     "name": "stderr",
     "output_type": "stream",
     "text": [
      "$ZUP.U.TO: possibly delisted; no timezone found\n"
     ]
    },
    {
     "name": "stdout",
     "output_type": "stream",
     "text": [
      "16:15:15.693 |  PAGE.TO\n"
     ]
    },
    {
     "name": "stderr",
     "output_type": "stream",
     "text": [
      "$PAGE.TO: possibly delisted; no timezone found\n",
      "152it [01:26,  1.54it/s]"
     ]
    },
    {
     "name": "stdout",
     "output_type": "stream",
     "text": [
      "16:15:18.319 |  Ticker.TO\n"
     ]
    },
    {
     "name": "stderr",
     "output_type": "stream",
     "text": [
      "$TICKER.TO: possibly delisted; no timezone found\n",
      "153it [01:27,  1.52it/s]"
     ]
    },
    {
     "name": "stdout",
     "output_type": "stream",
     "text": [
      "16:15:19.022 |  Date.TO\n"
     ]
    },
    {
     "name": "stderr",
     "output_type": "stream",
     "text": [
      "$DATE.TO: possibly delisted; no timezone found\n",
      "154it [01:29,  1.00s/it]"
     ]
    },
    {
     "name": "stdout",
     "output_type": "stream",
     "text": [
      "16:15:21.509 |  ASSET.TO\n"
     ]
    },
    {
     "name": "stderr",
     "output_type": "stream",
     "text": [
      "$ASSET.TO: possibly delisted; no timezone found\n",
      "157it [01:30,  1.67it/s]"
     ]
    },
    {
     "name": "stdout",
     "output_type": "stream",
     "text": [
      "16:15:22.173 |  ZCON.TO\n",
      "16:15:22.230 |  ZBAL.TO\n",
      "16:15:22.277 |  ZGRO.TO\n",
      "16:15:22.324 |  ZEQT.TO\n",
      "16:15:22.364 |  ZESG.TO\n"
     ]
    },
    {
     "name": "stderr",
     "output_type": "stream",
     "text": [
      "160it [01:30,  2.83it/s]"
     ]
    },
    {
     "name": "stdout",
     "output_type": "stream",
     "text": [
      "16:15:22.423 |  ZBAL.T.TO\n"
     ]
    },
    {
     "name": "stderr",
     "output_type": "stream",
     "text": [
      "$ZBAL.T.TO: possibly delisted; no timezone found\n"
     ]
    },
    {
     "name": "stdout",
     "output_type": "stream",
     "text": [
      "16:15:24.952 |  ZGRO.T.TO\n"
     ]
    },
    {
     "name": "stderr",
     "output_type": "stream",
     "text": [
      "$ZGRO.T.TO: possibly delisted; no timezone found\n",
      "162it [01:33,  1.39it/s]"
     ]
    },
    {
     "name": "stdout",
     "output_type": "stream",
     "text": [
      "16:15:25.586 |  ZMI.TO\n",
      "16:15:25.646 |  ACTIVE.TO\n"
     ]
    },
    {
     "name": "stderr",
     "output_type": "stream",
     "text": [
      "$ACTIVE.TO: possibly delisted; no timezone found\n",
      "167it [01:36,  1.71it/s]"
     ]
    },
    {
     "name": "stdout",
     "output_type": "stream",
     "text": [
      "16:15:28.465 |  ZLSC.TO\n",
      "16:15:28.515 |  ZLSU.TO\n",
      "16:15:28.550 |  ZZZD.TO\n",
      "16:15:28.591 |  ZACE.TO\n",
      "16:15:28.632 |  ARKK.TO\n",
      "16:15:28.668 |  ARKG.TO\n"
     ]
    },
    {
     "name": "stderr",
     "output_type": "stream",
     "text": [
      "170it [01:37,  2.56it/s]"
     ]
    },
    {
     "name": "stdout",
     "output_type": "stream",
     "text": [
      "16:15:28.715 |  ARKW.TO\n",
      "16:15:28.760 |  BGEQ.TO\n"
     ]
    },
    {
     "name": "stderr",
     "output_type": "stream",
     "text": [
      "$BGEQ.TO: possibly delisted; no timezone found\n",
      "172it [01:37,  2.56it/s]"
     ]
    },
    {
     "name": "stdout",
     "output_type": "stream",
     "text": [
      "16:15:29.491 |  BGHC.TO\n"
     ]
    },
    {
     "name": "stderr",
     "output_type": "stream",
     "text": [
      "$BGHC.TO: possibly delisted; no timezone found\n"
     ]
    },
    {
     "name": "stdout",
     "output_type": "stream",
     "text": [
      "16:15:32.014 |  BGIF.TO\n"
     ]
    },
    {
     "name": "stderr",
     "output_type": "stream",
     "text": [
      "$BGIF.TO: possibly delisted; no timezone found\n",
      "174it [01:40,  1.42it/s]"
     ]
    },
    {
     "name": "stdout",
     "output_type": "stream",
     "text": [
      "16:15:32.629 |  BGIN.TO\n"
     ]
    },
    {
     "name": "stderr",
     "output_type": "stream",
     "text": [
      "$BGIN.TO: possibly delisted; no timezone found\n",
      "175it [01:43,  1.02it/s]"
     ]
    },
    {
     "name": "stdout",
     "output_type": "stream",
     "text": [
      "16:15:35.067 |  BGDV.TO\n"
     ]
    },
    {
     "name": "stderr",
     "output_type": "stream",
     "text": [
      "$BGDV.TO: possibly delisted; no timezone found\n",
      "176it [01:44,  1.04it/s]"
     ]
    },
    {
     "name": "stdout",
     "output_type": "stream",
     "text": [
      "16:15:35.927 |  BGRT.TO\n"
     ]
    },
    {
     "name": "stderr",
     "output_type": "stream",
     "text": [
      "$BGRT.TO: possibly delisted; no timezone found\n",
      "179it [01:50,  1.32s/it]"
     ]
    },
    {
     "name": "stdout",
     "output_type": "stream",
     "text": [
      "16:15:42.248 |  GRNI.TO\n",
      "16:15:42.303 |  TOWR.TO\n",
      "16:15:42.349 |  WOMN.TO\n",
      "16:15:42.397 |  ZGSB.TO\n",
      "16:15:42.438 |  ZMSB.TO\n"
     ]
    },
    {
     "name": "stderr",
     "output_type": "stream",
     "text": [
      "185it [01:50,  2.09it/s]"
     ]
    },
    {
     "name": "stdout",
     "output_type": "stream",
     "text": [
      "16:15:42.492 |  ZCPB.TO\n",
      "16:15:42.544 |  ZFC.TO\n",
      "16:15:42.586 |  ZFN.TO\n",
      "16:15:42.633 |  ZXLE.TO\n",
      "16:15:42.672 |  ZXLU.TO\n"
     ]
    },
    {
     "name": "stderr",
     "output_type": "stream",
     "text": [
      "188it [01:51,  3.09it/s]"
     ]
    },
    {
     "name": "stdout",
     "output_type": "stream",
     "text": [
      "16:15:42.713 |  ZXLK.TO\n",
      "16:15:42.766 |  ZXLB.TO\n",
      "16:15:42.872 |  ZXLP.TO\n"
     ]
    },
    {
     "name": "stderr",
     "output_type": "stream",
     "text": [
      "192it [01:51,  4.77it/s]"
     ]
    },
    {
     "name": "stdout",
     "output_type": "stream",
     "text": [
      "16:15:42.940 |  ZXLY.TO\n",
      "16:15:43.014 |  ZXLI.TO\n",
      "16:15:43.059 |  ZXLC.TO\n",
      "16:15:43.105 |  ZXLV.TO\n",
      "16:15:43.144 |  ZXLF.TO\n"
     ]
    },
    {
     "name": "stderr",
     "output_type": "stream",
     "text": [
      "195it [01:51,  6.65it/s]"
     ]
    },
    {
     "name": "stdout",
     "output_type": "stream",
     "text": [
      "16:15:43.197 |  ZXLR.TO\n",
      "16:15:43.241 |  ZXLE.F.TO\n"
     ]
    },
    {
     "name": "stderr",
     "output_type": "stream",
     "text": [
      "$ZXLE.F.TO: possibly delisted; no timezone found\n",
      "197it [01:52,  5.22it/s]"
     ]
    },
    {
     "name": "stdout",
     "output_type": "stream",
     "text": [
      "16:15:43.819 |  ZXLU.F.TO\n"
     ]
    },
    {
     "name": "stderr",
     "output_type": "stream",
     "text": [
      "$ZXLU.F.TO: possibly delisted; no timezone found\n"
     ]
    },
    {
     "name": "stdout",
     "output_type": "stream",
     "text": [
      "16:15:46.346 |  ZXLK.F.TO\n"
     ]
    },
    {
     "name": "stderr",
     "output_type": "stream",
     "text": [
      "$ZXLK.F.TO: possibly delisted; no timezone found\n",
      "199it [01:55,  1.58it/s]"
     ]
    },
    {
     "name": "stdout",
     "output_type": "stream",
     "text": [
      "16:15:47.480 |  ZXLB.F.TO\n"
     ]
    },
    {
     "name": "stderr",
     "output_type": "stream",
     "text": [
      "$ZXLB.F.TO: possibly delisted; no timezone found\n",
      "200it [02:00,  1.23s/it]"
     ]
    },
    {
     "name": "stdout",
     "output_type": "stream",
     "text": [
      "16:15:51.853 |  ZXLP.F.TO\n"
     ]
    },
    {
     "name": "stderr",
     "output_type": "stream",
     "text": [
      "$ZXLP.F.TO: possibly delisted; no timezone found\n",
      "201it [02:01,  1.21s/it]"
     ]
    },
    {
     "name": "stdout",
     "output_type": "stream",
     "text": [
      "16:15:52.964 |  ZXLY.F.TO\n"
     ]
    },
    {
     "name": "stderr",
     "output_type": "stream",
     "text": [
      "$ZXLY.F.TO: possibly delisted; no timezone found\n",
      "202it [02:04,  1.61s/it]"
     ]
    },
    {
     "name": "stdout",
     "output_type": "stream",
     "text": [
      "16:15:56.080 |  ZXLI.F.TO\n"
     ]
    },
    {
     "name": "stderr",
     "output_type": "stream",
     "text": [
      "$ZXLI.F.TO: possibly delisted; no timezone found\n",
      "203it [02:05,  1.48s/it]"
     ]
    },
    {
     "name": "stdout",
     "output_type": "stream",
     "text": [
      "16:15:57.101 |  ZXLC.F.TO\n"
     ]
    },
    {
     "name": "stderr",
     "output_type": "stream",
     "text": [
      "$ZXLC.F.TO: possibly delisted; no timezone found\n",
      "204it [02:09,  2.15s/it]"
     ]
    },
    {
     "name": "stdout",
     "output_type": "stream",
     "text": [
      "16:16:01.276 |  ZXLV.F.TO\n"
     ]
    },
    {
     "name": "stderr",
     "output_type": "stream",
     "text": [
      "$ZXLV.F.TO: possibly delisted; no timezone found\n",
      "205it [02:10,  1.83s/it]"
     ]
    },
    {
     "name": "stdout",
     "output_type": "stream",
     "text": [
      "16:16:02.221 |  ZXLF.F.TO\n"
     ]
    },
    {
     "name": "stderr",
     "output_type": "stream",
     "text": [
      "$ZXLF.F.TO: possibly delisted; no timezone found\n",
      "206it [02:13,  2.20s/it]"
     ]
    },
    {
     "name": "stdout",
     "output_type": "stream",
     "text": [
      "16:16:05.392 |  ZXLR.F.TO\n"
     ]
    },
    {
     "name": "stderr",
     "output_type": "stream",
     "text": [
      "$ZXLR.F.TO: possibly delisted; no timezone found\n",
      "                        \r"
     ]
    },
    {
     "name": "stdout",
     "output_type": "stream",
     "text": [
      "Best 20 ETFs by Q (slope/sigma):\n",
      "Ticker\tSlope\tSigma\tTime Span\tQ\n"
     ]
    },
    {
     "data": {
      "image/png": "[encoded data removed]",
      "text/plain": [
       "<Figure size 1000x700 with 2 Axes>"
      ]
     },
     "metadata": {},
     "output_type": "display_data"
    }
   ],
   "source": [
    "import numpy as np\n",
    "from scipy.optimize import minimize\n",
    "import bydoux_tools as bt\n",
    "from astropy.time import Time\n",
    "import matplotlib.pyplot as plt\n",
    "import matplotlib.cm as cm\n",
    "import matplotlib.colors as mcolors\n",
    "from tqdm import tqdm\n",
    "\n",
    "verbose = False  # Set to True for detailed output\n",
    "\n",
    "# List of BMO ETF tickers (with some non-ETF entries, but filtered later)\n",
    "tickers = [\n",
    "    'ZGI', 'ZCN', 'STPL', 'ZIU', 'COMM', 'ZDM', 'DISC', 'ZEA', 'ZEO', 'ZEM',\n",
    "    'ZGD', 'ZUE', 'ZJG', 'ZSP', 'ZEAT', 'ZSP.U', 'ZMT', 'ZDJ', 'ZQQ', 'ESGA',\n",
    "    'ZNQ', 'ESGY', 'ZNQ.U', 'ESGE', 'ZMID.F', 'ESGG', 'ZMID', 'ZGRN', 'ZMID.U', 'ZCLN',\n",
    "    'ZSML.F', 'ESGB', 'ZSML', 'ESGF', 'ZSML.U', 'ZJPN', 'ZJPN.F', 'ZCS', 'ZID', 'ZCS.L',\n",
    "    'ZCH', 'ZCM', 'ZLC', 'ZLB', 'ZPS', 'ZLH', 'ZPS.L', 'ZLU', 'ZFS', 'ZLU.U',\n",
    "    'ZFS.L', 'ZLD', 'ZMP', 'ZLI', 'ZPL', 'ZLE', 'ZFM', 'ZUQ.F', 'ZFL', 'ZUQ',\n",
    "    'ZUQ.U', 'ZAG', 'ZGQ', 'ZSB', 'ZEQ', 'ZCB', 'ZDV', 'ZDB', 'ZUD', 'ZSDB',\n",
    "    'ZDY', 'ZCDB', 'ZDY.U', 'ZMMK', 'ZDH', 'ZST', 'ZDI', 'ZST.L', 'ZVC', 'ZMBS',\n",
    "    'ZVU', 'ZGB', 'ZRR', 'ZOCT', 'ZBI', 'ZJUL', 'ZBBB', 'ZAPR', 'ZQB', 'ZJAN',\n",
    "    'ZUAG', 'ZWC', 'ZUAG.F', 'ZWS', 'ZUAG.U', 'ZWH', 'ZSU', 'ZWH.U', 'ZMU', 'ZWA',\n",
    "    'ZIC', 'ZWE', 'ZIC.U', 'ZWP', 'ZUCM', 'ZWG', 'ZUCM.U', 'ZWB', 'ZUS.U', 'ZWB.U',\n",
    "    'ZUS.V', 'ZWK', 'ZTS', 'ZWU', 'ZTS.U', 'ZWHC', 'ZTM', 'ZWEN', 'ZTM.U', 'ZWT',\n",
    "    'ZTL.F', 'ZWQT', 'ZTL', 'ZPAY.F', 'ZTL.U', 'ZPAY', 'ZTIP', 'ZPAY.U', 'ZTIP.U', 'ZPH',\n",
    "    'ZTIP.F', 'ZPW', 'ZJK', 'ZPW.U', 'ZHY', 'ZJK.U', 'ZEB', 'ZFH', 'ZUT', 'ZEF',\n",
    "    'ZRE', 'ZIN', 'ZPR', 'ZUB', 'ZPR.U', 'ZBK', 'ZHP', 'ZUH', 'ZUP', 'ZHU',\n",
    "    'ZUP.U', 'PAGE', 'Ticker', 'Date', 'ASSET', 'ZCON', 'ZBAL', 'ZGRO', 'ZEQT', 'ZESG',\n",
    "    'ZBAL.T', 'ZGRO.T', 'ZMI', 'ACTIVE', 'ZLSC', 'ZLSU', 'ZZZD', 'ZACE', 'ARKK', 'ARKG',\n",
    "    'ARKW', 'BGEQ', 'BGHC', 'BGIF', 'BGIN', 'BGDV', 'BGRT', 'GRNI', 'TOWR', 'WOMN',\n",
    "    'ZGSB', 'ZMSB', 'ZCPB', 'ZFC', 'ZFN', 'ZXLE', 'ZXLU', 'ZXLK', 'ZXLB', 'ZXLP',\n",
    "    'ZXLY', 'ZXLI', 'ZXLC', 'ZXLV', 'ZXLF', 'ZXLR', 'ZXLE.F', 'ZXLU.F', 'ZXLK.F', 'ZXLB.F',\n",
    "    'ZXLP.F', 'ZXLY.F', 'ZXLI.F', 'ZXLC.F', 'ZXLV.F', 'ZXLF.F', 'ZXLR.F'\n",
    "]\n",
    "# Add .TO suffix for Yahoo Finance Canada tickers\n",
    "tickers = np.array([ticker + '.TO' for ticker in tickers])\n",
    "\n",
    "# Arrays to store results for each ticker\n",
    "time_spans = np.zeros(len(tickers))  # Time span of data in years\n",
    "slopes = np.zeros(len(tickers))      # Linear fit slope (log return per year)\n",
    "sigmas = np.zeros(len(tickers))      # Standard deviation of residuals\n",
    "q = np.zeros(len(tickers))           # Quality metric (slope/sigma)\n",
    "\n",
    "for iticker, ticker in tqdm(enumerate(tickers),leave = False):\n",
    "    bt.printc(f'{ticker}')\n",
    "    try:\n",
    "        tbl = bt.read_quotes(ticker)\n",
    "    except Exception as e:\n",
    "        if verbose:\n",
    "            bt.printc(f\"Exception for {ticker}: {e}\")\n",
    "        continue\n",
    "    # Skip if table is None or empty\n",
    "    if tbl is None or len(tbl) == 0 or ('mjd' not in tbl.colnames) or (len(tbl['mjd']) == 0):\n",
    "        if verbose:\n",
    "            bt.printc(f\"Failed to read or empty data for {ticker}\")\n",
    "        continue\n",
    "\n",
    "    # Convert MJD to years for fitting\n",
    "    yr = tbl['mjd'] / 365\n",
    "    val = tbl['log_close']\n",
    "\n",
    "    # Linear fit to log price vs. time\n",
    "    fit = np.polyfit(yr, val, 1)\n",
    "    slopes[iticker] = fit[0]\n",
    "    sigmas[iticker] = np.std(val - (fit[0] * yr + fit[1]))\n",
    "\n",
    "    # Time span in years\n",
    "    time_spans[iticker] = (tbl['mjd'][-1] - tbl['mjd'][0]) / 365\n",
    "\n",
    "# Filter: keep only ETFs with enough data, reasonable slope, and nonzero sigma\n",
    "keep = (sigmas != 0) & (time_spans > 5) & (slopes > 0.08) & (slopes < 0.25)\n",
    "tickers = tickers[keep]\n",
    "slopes = slopes[keep]\n",
    "sigmas = sigmas[keep]\n",
    "time_spans = time_spans[keep]\n",
    "\n",
    "# Compute quality metric (Q = slope / sigma)\n",
    "q = slopes / sigmas\n",
    "ord = np.argsort(-q)  # Sort by descending Q\n",
    "\n",
    "# Sort all arrays by Q\n",
    "tickers = tickers[ord]\n",
    "slopes = slopes[ord]\n",
    "sigmas = sigmas[ord]\n",
    "time_spans = time_spans[ord]\n",
    "q = q[ord]\n",
    "\n",
    "print('Best 20 ETFs by Q (slope/sigma):')\n",
    "print('Ticker\\tSlope\\tSigma\\tTime Span\\tQ')\n",
    "for iticker in range(min(20, len(tickers))):\n",
    "    info = bt.get_info(tickers[iticker])\n",
    "    if verbose:\n",
    "        bt.printc('\\t' + '\\t'.join( info.get('longName', 'Unknown')))\n",
    "        bt.printc(f\"{tickers[iticker]} {slopes[iticker]*100:.1f} +- {sigmas[iticker]*100:.1f}%, dt = {time_spans[iticker]:.1f} yr, Q = {q[iticker]:.2f}\")\n",
    "\n",
    "# --- Visualization ---\n",
    "\n",
    "# Normalize the color map to the range of time_spans\n",
    "norm = mcolors.Normalize(vmin=np.min(time_spans), vmax=np.max(time_spans))\n",
    "cmap = plt.colormaps['viridis']\n",
    "\n",
    "plt.figure(figsize=(10, 7))\n",
    "# Scatter plot: slope vs sigma, colored by time span\n",
    "sc = plt.scatter(slopes, sigmas, c=time_spans, cmap=cmap, norm=norm, s=40, edgecolor='k')\n",
    "\n",
    "# Highlight ETFs with \"good\" slope and time span\n",
    "g = (slopes > 0.08) & (slopes < 0.25) & (time_spans > 3)\n",
    "plt.scatter(slopes[g], sigmas[g], c=time_spans[g], cmap=cmap, norm=norm, s=40)\n",
    "\n",
    "# Annotate each point with the ticker symbol\n",
    "for iticker in range(len(tickers)):\n",
    "    plt.text(slopes[iticker], sigmas[iticker], tickers[iticker], fontsize=7)\n",
    "\n",
    "plt.xlabel('Slope (log return per year)')\n",
    "plt.ylabel('Sigma (log return per year)')\n",
    "plt.grid(True, alpha=0.3)\n",
    "plt.title('Slope vs Sigma for BMO ETFs')\n",
    "\n",
    "# Add colorbar for time span\n",
    "cbar = plt.colorbar(sc)\n",
    "cbar.set_label('Time Span (years)')\n",
    "\n",
    "plt.tight_layout()\n",
    "plt.show()"
   ]
  }
 ],
 "metadata": {
  "kernelspec": {
   "display_name": "p3.12",
   "language": "python",
   "name": "python3"
  },
  "language_info": {
   "codemirror_mode": {
    "name": "ipython",
    "version": 3
   },
   "file_extension": ".py",
   "mimetype": "text/x-python",
   "name": "python",
   "nbconvert_exporter": "python",
   "pygments_lexer": "ipython3",
   "version": "3.12.2"
  }
 },
 "nbformat": 4,
 "nbformat_minor": 5
}

{
 "cells": [
  {
   "cell_type": "code",
   "execution_count": 3,
   "id": "583c2ae8",
   "metadata": {},
   "outputs": [
    {
     "name": "stdout",
     "output_type": "stream",
     "text": [
      "\u001bcACZ.TO\n",
      "\u001bcAIGO.TO\n",
      "\u001bc"
     ]
    },
    {
     "name": "stderr",
     "output_type": "stream",
     "text": [
      "$AMHE.U.T: possibly delisted; no timezone found\n"
     ]
    },
    {
     "name": "stdout",
     "output_type": "stream",
     "text": [
      "AMAX.TO\n",
      "\u001bcAMHE.TO\n",
      "\u001bcError with ticker:  AMHE.U.T  -  cannot access local variable 'tbl' where it is not associated with a value\n",
      "\u001bc"
     ]
    },
    {
     "name": "stderr",
     "output_type": "stream",
     "text": [
      "$AMZH.U.T: possibly delisted; no timezone found\n",
      "$AUGB.F.T: possibly delisted; no timezone found\n"
     ]
    },
    {
     "name": "stdout",
     "output_type": "stream",
     "text": [
      "AMZH.TO\n",
      "\u001bcError with ticker:  AMZH.U.T  -  cannot access local variable 'tbl' where it is not associated with a value\n",
      "\u001bcError with ticker:  AUGB.F.T  -  cannot access local variable 'tbl' where it is not associated with a value\n",
      "\u001bc"
     ]
    },
    {
     "name": "stderr",
     "output_type": "stream",
     "text": [
      "$BASE.B.T: possibly delisted; no timezone found\n"
     ]
    },
    {
     "name": "stdout",
     "output_type": "stream",
     "text": [
      "BASE.TO\n",
      "\u001bcError with ticker:  BASE.B.T  -  cannot access local variable 'tbl' where it is not associated with a value\n",
      "\u001bcBDIV.TO\n",
      "\u001bc"
     ]
    },
    {
     "name": "stderr",
     "output_type": "stream",
     "text": [
      "$BEPR.U.T: possibly delisted; no timezone found\n"
     ]
    },
    {
     "name": "stdout",
     "output_type": "stream",
     "text": [
      "BEPR.TO\n",
      "\u001bcError with ticker:  BEPR.U.T  -  cannot access local variable 'tbl' where it is not associated with a value\n",
      "\u001bcBESG.TO\n",
      "\u001bc"
     ]
    },
    {
     "name": "stderr",
     "output_type": "stream",
     "text": [
      "$BFIN.U.T: possibly delisted; no timezone found\n"
     ]
    },
    {
     "name": "stdout",
     "output_type": "stream",
     "text": [
      "BFIN.TO\n",
      "\u001bcError with ticker:  BFIN.U.T  -  cannot access local variable 'tbl' where it is not associated with a value\n",
      "\u001bcBGC.TO\n",
      "\u001bc"
     ]
    },
    {
     "name": "stderr",
     "output_type": "stream",
     "text": [
      "$BGU.U.TO: possibly delisted; no timezone found\n"
     ]
    },
    {
     "name": "stdout",
     "output_type": "stream",
     "text": [
      "BGU.TO\n",
      "\u001bcError with ticker:  BGU.U.TO  -  cannot access local variable 'tbl' where it is not associated with a value\n",
      "\u001bcBKCC.TO\n",
      "\u001bcBKCL.TO\n",
      "\u001bc"
     ]
    },
    {
     "name": "stderr",
     "output_type": "stream",
     "text": [
      "$BKL.C.TO: possibly delisted; no timezone found\n"
     ]
    },
    {
     "name": "stdout",
     "output_type": "stream",
     "text": [
      "Error with ticker:  BKL.C.TO  -  cannot access local variable 'tbl' where it is not associated with a value\n",
      "\u001bcBLCK.TO\n",
      "\u001bcBLOV.TO\n",
      "\u001bcBMAX.TO\n",
      "\u001bcBNKL.TO\n",
      "\u001bc"
     ]
    },
    {
     "name": "stderr",
     "output_type": "stream",
     "text": [
      "$BPRF.U.T: possibly delisted; no timezone found\n"
     ]
    },
    {
     "name": "stdout",
     "output_type": "stream",
     "text": [
      "BPRF.TO\n",
      "\u001bcError with ticker:  BPRF.U.T  -  cannot access local variable 'tbl' where it is not associated with a value\n",
      "\u001bcBREA.TO\n",
      "\u001bcBSKT.TO\n",
      "\u001bcBXF.TO\n",
      "\u001bcCACB.TO\n",
      "\u001bcCAFR.TO\n",
      "\u001bcCAGG.TO\n",
      "\u001bcCAGS.TO\n",
      "\u001bcCANL.TO\n",
      "\u001bcCARB.TO\n",
      "\u001bcCASH.TO\n",
      "\u001bcCBAL.TO\n",
      "\u001bcCBCX.TO\n",
      "\u001bcCBGR.TO\n",
      "\u001bcCBH.TO\n",
      "\u001bcCBIL.TO\n",
      "\u001bcCBIN.TO\n",
      "\u001bcCBL.TO\n",
      "\u001bcCBND.TO\n",
      "\u001bcCBNK.TO\n",
      "\u001bcCBO.TO\n",
      "\u001bcCBUG.TO\n",
      "\u001bcCCBD.TO\n",
      "\u001bcCCBI.TO\n",
      "\u001bcCCEI.TO\n",
      "\u001bc"
     ]
    },
    {
     "name": "stderr",
     "output_type": "stream",
     "text": [
      "$CCOM.B.T: possibly delisted; no timezone found\n"
     ]
    },
    {
     "name": "stdout",
     "output_type": "stream",
     "text": [
      "CCNV.TO\n",
      "\u001bcError with ticker:  CCOM.B.T  -  cannot access local variable 'tbl' where it is not associated with a value\n",
      "\u001bcCCX.TO\n",
      "\u001bcCDEF.TO\n",
      "\u001bcCDIV.TO\n",
      "\u001bcCDNA.TO\n",
      "\u001bcCDZ.TO\n",
      "\u001bcCEMI.TO\n",
      "\u001bcCEQT.TO\n",
      "\u001bcCEW.TO\n",
      "\u001bcCFLX.TO\n",
      "\u001bcCGAA.TO\n",
      "\u001bcCGBI.TO\n",
      "\u001bc"
     ]
    },
    {
     "name": "stderr",
     "output_type": "stream",
     "text": [
      "$CGDV.B.T: possibly delisted; no timezone found\n"
     ]
    },
    {
     "name": "stdout",
     "output_type": "stream",
     "text": [
      "CGDV.TO\n",
      "\u001bcError with ticker:  CGDV.B.T  -  cannot access local variable 'tbl' where it is not associated with a value\n",
      "\u001bcCGIN.TO\n",
      "\u001bc"
     ]
    },
    {
     "name": "stderr",
     "output_type": "stream",
     "text": [
      "$CGIN.U.T: possibly delisted; no timezone found\n"
     ]
    },
    {
     "name": "stdout",
     "output_type": "stream",
     "text": [
      "Error with ticker:  CGIN.U.T  -  cannot access local variable 'tbl' where it is not associated with a value\n",
      "\u001bc"
     ]
    },
    {
     "name": "stderr",
     "output_type": "stream",
     "text": [
      "$CGL.C.TO: possibly delisted; no timezone found\n"
     ]
    },
    {
     "name": "stdout",
     "output_type": "stream",
     "text": [
      "CGL.TO\n",
      "\u001bcError with ticker:  CGL.C.TO  -  cannot access local variable 'tbl' where it is not associated with a value\n",
      "\u001bcCGLO.TO\n",
      "\u001bc"
     ]
    },
    {
     "name": "stderr",
     "output_type": "stream",
     "text": [
      "$CGQD.B.T: possibly delisted; no timezone found\n"
     ]
    },
    {
     "name": "stdout",
     "output_type": "stream",
     "text": [
      "Error with ticker:  CGQD.B.T  -  cannot access local variable 'tbl' where it is not associated with a value\n",
      "\u001bcCGR.TO\n",
      "\u001bcCGRO.TO\n",
      "\u001bc"
     ]
    },
    {
     "name": "stderr",
     "output_type": "stream",
     "text": [
      "$CGXF.U.T: possibly delisted; no timezone found\n"
     ]
    },
    {
     "name": "stdout",
     "output_type": "stream",
     "text": [
      "CGXF.TO\n",
      "\u001bcError with ticker:  CGXF.U.T  -  cannot access local variable 'tbl' where it is not associated with a value\n",
      "\u001bc"
     ]
    },
    {
     "name": "stderr",
     "output_type": "stream",
     "text": [
      "$CHNA.B.T: possibly delisted; no timezone found\n"
     ]
    },
    {
     "name": "stdout",
     "output_type": "stream",
     "text": [
      "CHB.TO\n",
      "\u001bcError with ticker:  CHNA.B.T  -  cannot access local variable 'tbl' where it is not associated with a value\n",
      "\u001bc"
     ]
    },
    {
     "name": "stderr",
     "output_type": "stream",
     "text": [
      "$CHPS.U.T: possibly delisted; no timezone found\n"
     ]
    },
    {
     "name": "stdout",
     "output_type": "stream",
     "text": [
      "CHPS.TO\n",
      "\u001bcError with ticker:  CHPS.U.T  -  cannot access local variable 'tbl' where it is not associated with a value\n",
      "\u001bcCIAI.TO\n",
      "\u001bcCIBR.TO\n",
      "\u001bcCIC.TO\n",
      "\u001bcCIEH.TO\n",
      "\u001bcCIEI.TO\n",
      "\u001bc"
     ]
    },
    {
     "name": "stderr",
     "output_type": "stream",
     "text": [
      "$CIEM.U.T: possibly delisted; no timezone found\n"
     ]
    },
    {
     "name": "stdout",
     "output_type": "stream",
     "text": [
      "CIEM.TO\n",
      "\u001bcError with ticker:  CIEM.U.T  -  cannot access local variable 'tbl' where it is not associated with a value\n",
      "\u001bcCIF.TO\n",
      "\u001bcCINT.TO\n",
      "\u001bcCINV.TO\n",
      "\u001bc"
     ]
    },
    {
     "name": "stderr",
     "output_type": "stream",
     "text": [
      "$CINV.U.T: possibly delisted; no timezone found\n"
     ]
    },
    {
     "name": "stdout",
     "output_type": "stream",
     "text": [
      "Error with ticker:  CINV.U.T  -  cannot access local variable 'tbl' where it is not associated with a value\n",
      "\u001bcCLF.TO\n",
      "\u001bcCLG.TO\n",
      "\u001bcCMAG.TO\n",
      "\u001bcCMAR.TO\n",
      "\u001bcCMCE.TO\n",
      "\u001bcCMNY.TO\n",
      "\u001bc"
     ]
    },
    {
     "name": "stderr",
     "output_type": "stream",
     "text": [
      "$CMOM.B.T: possibly delisted; no timezone found\n"
     ]
    },
    {
     "name": "stdout",
     "output_type": "stream",
     "text": [
      "CMOM.TO\n",
      "\u001bcError with ticker:  CMOM.B.T  -  cannot access local variable 'tbl' where it is not associated with a value\n",
      "\u001bcCMR.TO\n",
      "\u001bcCMVX.TO\n",
      "\u001bcCNCC.TO\n",
      "\u001bcCNCL.TO\n",
      "\u001bcCNDX.TO\n",
      "\u001bcCNV.TO\n",
      "\u001bcCOMM.TO\n",
      "\u001bcCOPP.TO\n",
      "\u001bcCOW.TO\n",
      "\u001bcCPD.TO\n",
      "\u001bcCRED.TO\n",
      "\u001bcCSAV.TO\n",
      "\u001bcCSBI.TO\n",
      "\u001bcCSD.TO\n",
      "\u001bcCSY.TO\n",
      "\u001bcCUD.TO\n",
      "\u001bcCUDV.TO\n",
      "\u001bc"
     ]
    },
    {
     "name": "stderr",
     "output_type": "stream",
     "text": [
      "$CUDV.B.T: possibly delisted; no timezone found\n"
     ]
    },
    {
     "name": "stdout",
     "output_type": "stream",
     "text": [
      "Error with ticker:  CUDV.B.T  -  cannot access local variable 'tbl' where it is not associated with a value\n",
      "\u001bcCUEH.TO\n",
      "\u001bcCUEI.TO\n",
      "\u001bcCUTL.TO\n",
      "\u001bc"
     ]
    },
    {
     "name": "stderr",
     "output_type": "stream",
     "text": [
      "$CUTL.B.T: possibly delisted; no timezone found\n"
     ]
    },
    {
     "name": "stdout",
     "output_type": "stream",
     "text": [
      "Error with ticker:  CUTL.B.T  -  cannot access local variable 'tbl' where it is not associated with a value\n",
      "\u001bcCVD.TO\n",
      "\u001bcCVLU.TO\n",
      "\u001bc"
     ]
    },
    {
     "name": "stderr",
     "output_type": "stream",
     "text": [
      "$CVLU.B.T: possibly delisted; no timezone found\n"
     ]
    },
    {
     "name": "stdout",
     "output_type": "stream",
     "text": [
      "Error with ticker:  CVLU.B.T  -  cannot access local variable 'tbl' where it is not associated with a value\n",
      "\u001bcCWW.TO\n",
      "\u001bcCXF.TO\n",
      "\u001bcCYH.TO\n",
      "\u001bcDAMG.TO\n",
      "\u001bc"
     ]
    },
    {
     "name": "stderr",
     "output_type": "stream",
     "text": [
      "$DAMG.U.T: possibly delisted; no timezone found\n"
     ]
    },
    {
     "name": "stdout",
     "output_type": "stream",
     "text": [
      "Error with ticker:  DAMG.U.T  -  cannot access local variable 'tbl' where it is not associated with a value\n",
      "\u001bcDANC.TO\n",
      "\u001bc"
     ]
    },
    {
     "name": "stderr",
     "output_type": "stream",
     "text": [
      "$DANC.U.T: possibly delisted; no timezone found\n"
     ]
    },
    {
     "name": "stdout",
     "output_type": "stream",
     "text": [
      "Error with ticker:  DANC.U.T  -  cannot access local variable 'tbl' where it is not associated with a value\n",
      "\u001bcDCBC.TO\n",
      "\u001bcDCC.TO\n",
      "\u001bcDCG.TO\n",
      "\u001bcDCP.TO\n",
      "\u001bcDCS.TO\n",
      "\u001bcDCU.TO\n",
      "\u001bcDFC.TO\n",
      "\u001bcDFD.TO\n",
      "\u001bcDFE.TO\n",
      "\u001bcDFU.TO\n",
      "\u001bcDGR.TO\n",
      "\u001bc"
     ]
    },
    {
     "name": "stderr",
     "output_type": "stream",
     "text": [
      "$DGR.B.TO: possibly delisted; no timezone found\n"
     ]
    },
    {
     "name": "stdout",
     "output_type": "stream",
     "text": [
      "Error with ticker:  DGR.B.TO  -  cannot access local variable 'tbl' where it is not associated with a value\n",
      "\u001bc"
     ]
    },
    {
     "name": "stderr",
     "output_type": "stream",
     "text": [
      "$DGR.U.TO: possibly delisted; no timezone found\n"
     ]
    },
    {
     "name": "stdout",
     "output_type": "stream",
     "text": [
      "Error with ticker:  DGR.U.TO  -  cannot access local variable 'tbl' where it is not associated with a value\n",
      "\u001bcDGRC.TO\n",
      "\u001bcDISC.TO\n",
      "\u001bcDLR.TO\n",
      "\u001bc"
     ]
    },
    {
     "name": "stderr",
     "output_type": "stream",
     "text": [
      "$DLR.U.TO: possibly delisted; no timezone found\n"
     ]
    },
    {
     "name": "stdout",
     "output_type": "stream",
     "text": [
      "Error with ticker:  DLR.U.TO  -  cannot access local variable 'tbl' where it is not associated with a value\n",
      "\u001bcDMEC.TO\n",
      "\u001bcDMEI.TO\n",
      "\u001bcDMEU.TO\n",
      "\u001bcDQD.TO\n",
      "\u001bcDQI.TO\n",
      "\u001bcDRCU.TO\n",
      "\u001bcDRFC.TO\n",
      "\u001bcDRFD.TO\n",
      "\u001bcDRFE.TO\n",
      "\u001bcDRFG.TO\n",
      "\u001bcDRFU.TO\n",
      "\u001bcDRMC.TO\n",
      "\u001bcDRMD.TO\n",
      "\u001bcDRME.TO\n",
      "\u001bcDRMU.TO\n",
      "\u001bcDSAE.TO\n",
      "\u001bcDXAU.TO\n",
      "\u001bcDXB.TO\n",
      "\u001bcDXBC.TO\n",
      "\u001bcDXBU.TO\n",
      "\u001bcDXC.TO\n",
      "\u001bcDXDB.TO\n",
      "\u001bcDXEM.TO\n",
      "\u001bcDXET.TO\n",
      "\u001bcDXF.TO\n",
      "\u001bcDXG.TO\n",
      "\u001bc"
     ]
    },
    {
     "name": "stderr",
     "output_type": "stream",
     "text": [
      "$DXG.U.TO: possibly delisted; no timezone found\n"
     ]
    },
    {
     "name": "stdout",
     "output_type": "stream",
     "text": [
      "Error with ticker:  DXG.U.TO  -  cannot access local variable 'tbl' where it is not associated with a value\n",
      "\u001bcDXGE.TO\n",
      "\u001bcDXIF.TO\n",
      "\u001bcDXM.TO\n",
      "\u001bcDXMO.TO\n",
      "\u001bcDXN.TO\n",
      "\u001bcDXO.TO\n",
      "\u001bcDXP.TO\n",
      "\u001bcDXQ.TO\n",
      "\u001bcDXR.TO\n",
      "\u001bcDXRE.TO\n",
      "\u001bcDXU.TO\n",
      "\u001bc"
     ]
    },
    {
     "name": "stderr",
     "output_type": "stream",
     "text": [
      "$DXU.U.TO: possibly delisted; no timezone found\n"
     ]
    },
    {
     "name": "stdout",
     "output_type": "stream",
     "text": [
      "Error with ticker:  DXU.U.TO  -  cannot access local variable 'tbl' where it is not associated with a value\n",
      "\u001bcDXUS.TO\n",
      "\u001bc"
     ]
    },
    {
     "name": "stderr",
     "output_type": "stream",
     "text": [
      "$DXUS.U.T: possibly delisted; no timezone found\n"
     ]
    },
    {
     "name": "stdout",
     "output_type": "stream",
     "text": [
      "Error with ticker:  DXUS.U.T  -  cannot access local variable 'tbl' where it is not associated with a value\n",
      "\u001bcDXV.TO\n",
      "\u001bcDXW.TO\n",
      "\u001bcDXZ.TO\n",
      "\u001bcEBNK.TO\n",
      "\u001bc"
     ]
    },
    {
     "name": "stderr",
     "output_type": "stream",
     "text": [
      "$EBNK.B.T: possibly delisted; no timezone found\n"
     ]
    },
    {
     "name": "stdout",
     "output_type": "stream",
     "text": [
      "Error with ticker:  EBNK.B.T  -  cannot access local variable 'tbl' where it is not associated with a value\n",
      "\u001bc"
     ]
    },
    {
     "name": "stderr",
     "output_type": "stream",
     "text": [
      "$EBNK.U.T: possibly delisted; no timezone found\n"
     ]
    },
    {
     "name": "stdout",
     "output_type": "stream",
     "text": [
      "Error with ticker:  EBNK.U.T  -  cannot access local variable 'tbl' where it is not associated with a value\n",
      "\u001bcEDGF.TO\n",
      "\u001bcEHE.TO\n",
      "\u001bc"
     ]
    },
    {
     "name": "stderr",
     "output_type": "stream",
     "text": [
      "$EHE.B.TO: possibly delisted; no timezone found\n"
     ]
    },
    {
     "name": "stdout",
     "output_type": "stream",
     "text": [
      "Error with ticker:  EHE.B.TO  -  cannot access local variable 'tbl' where it is not associated with a value\n",
      "\u001bcELV.TO\n",
      "\u001bcEMAX.TO\n",
      "\u001bc"
     ]
    },
    {
     "name": "stderr",
     "output_type": "stream",
     "text": [
      "$EMV.B.TO: possibly delisted; no timezone found\n"
     ]
    },
    {
     "name": "stdout",
     "output_type": "stream",
     "text": [
      "Error with ticker:  EMV.B.TO  -  cannot access local variable 'tbl' where it is not associated with a value\n",
      "\u001bcENCC.TO\n",
      "\u001bcENCL.TO\n",
      "\u001bcEQCC.TO\n",
      "\u001bcEQCL.TO\n",
      "\u001bcEQL.TO\n",
      "\u001bc"
     ]
    },
    {
     "name": "stderr",
     "output_type": "stream",
     "text": [
      "$EQL.F.TO: possibly delisted; no timezone found\n"
     ]
    },
    {
     "name": "stdout",
     "output_type": "stream",
     "text": [
      "Error with ticker:  EQL.F.TO  -  cannot access local variable 'tbl' where it is not associated with a value\n",
      "\u001bc"
     ]
    },
    {
     "name": "stderr",
     "output_type": "stream",
     "text": [
      "$EQL.U.TO: possibly delisted; no timezone found\n"
     ]
    },
    {
     "name": "stdout",
     "output_type": "stream",
     "text": [
      "Error with ticker:  EQL.U.TO  -  cannot access local variable 'tbl' where it is not associated with a value\n",
      "\u001bcEQLI.TO\n",
      "\u001bcEQY.TO\n",
      "\u001bcESG.TO\n",
      "\u001bc"
     ]
    },
    {
     "name": "stderr",
     "output_type": "stream",
     "text": [
      "$ESG.F.TO: possibly delisted; no timezone found\n"
     ]
    },
    {
     "name": "stdout",
     "output_type": "stream",
     "text": [
      "Error with ticker:  ESG.F.TO  -  cannot access local variable 'tbl' where it is not associated with a value\n",
      "\u001bcESGA.TO\n",
      "\u001bcESGB.TO\n",
      "\u001bcESGC.TO\n",
      "\u001bcESGE.TO\n",
      "\u001bcESGF.TO\n",
      "\u001bcESGG.TO\n",
      "\u001bcESGH.TO\n",
      "\u001bc"
     ]
    },
    {
     "name": "stderr",
     "output_type": "stream",
     "text": [
      "$ESGH.F.T: possibly delisted; no timezone found\n"
     ]
    },
    {
     "name": "stdout",
     "output_type": "stream",
     "text": [
      "Error with ticker:  ESGH.F.T  -  cannot access local variable 'tbl' where it is not associated with a value\n",
      "\u001bcESGY.TO\n",
      "\u001bc"
     ]
    },
    {
     "name": "stderr",
     "output_type": "stream",
     "text": [
      "$ESGY.F.T: possibly delisted; no timezone found\n"
     ]
    },
    {
     "name": "stdout",
     "output_type": "stream",
     "text": [
      "Error with ticker:  ESGY.F.T  -  cannot access local variable 'tbl' where it is not associated with a value\n",
      "\u001bcETHI.TO\n",
      "\u001bcETP.TO\n",
      "\u001bcEUR.TO\n",
      "\u001bcEVO.TO\n",
      "\u001bcFAI.TO\n",
      "\u001bcFAO.TO\n",
      "\u001bcFBE.TO\n",
      "\u001bcFBT.TO\n",
      "\u001bcFBU.TO\n",
      "\u001bcFCCB.TO\n",
      "\u001bcFCCD.TO\n",
      "\u001bc"
     ]
    },
    {
     "name": "stderr",
     "output_type": "stream",
     "text": [
      "$FCCL.TO: possibly delisted; no timezone found\n"
     ]
    },
    {
     "name": "stdout",
     "output_type": "stream",
     "text": [
      "Error with ticker:  FCCL.TO  -  cannot access local variable 'tbl' where it is not associated with a value\n",
      "\u001bcFCCQ.TO\n",
      "\u001bcFCCV.TO\n",
      "\u001bcFCGB.TO\n",
      "\u001bcFCGI.TO\n",
      "\u001bcFCHH.TO\n",
      "\u001bcFCHY.TO\n",
      "\u001bcFCID.TO\n",
      "\u001bc"
     ]
    },
    {
     "name": "stderr",
     "output_type": "stream",
     "text": [
      "$FCIL.TO: possibly delisted; no timezone found\n"
     ]
    },
    {
     "name": "stdout",
     "output_type": "stream",
     "text": [
      "Error with ticker:  FCIL.TO  -  cannot access local variable 'tbl' where it is not associated with a value\n",
      "\u001bcFCIQ.TO\n",
      "\u001bc"
     ]
    },
    {
     "name": "stderr",
     "output_type": "stream",
     "text": [
      "$FCIQ.U.T: possibly delisted; no timezone found\n"
     ]
    },
    {
     "name": "stdout",
     "output_type": "stream",
     "text": [
      "Error with ticker:  FCIQ.U.T  -  cannot access local variable 'tbl' where it is not associated with a value\n",
      "\u001bcFCIV.TO\n",
      "\u001bcFCLH.TO\n",
      "\u001bcFCMI.TO\n",
      "\u001bcFCQH.TO\n",
      "\u001bcFCRH.TO\n",
      "\u001bcFCRR.TO\n",
      "\u001bc"
     ]
    },
    {
     "name": "stderr",
     "output_type": "stream",
     "text": [
      "$FCRR.U.T: possibly delisted; no timezone found\n"
     ]
    },
    {
     "name": "stdout",
     "output_type": "stream",
     "text": [
      "Error with ticker:  FCRR.U.T  -  cannot access local variable 'tbl' where it is not associated with a value\n",
      "\u001bcFCSB.TO\n",
      "\u001bcFCUD.TO\n",
      "\u001bc"
     ]
    },
    {
     "name": "stderr",
     "output_type": "stream",
     "text": [
      "$FCUD.U.T: possibly delisted; no timezone found\n"
     ]
    },
    {
     "name": "stdout",
     "output_type": "stream",
     "text": [
      "Error with ticker:  FCUD.U.T  -  cannot access local variable 'tbl' where it is not associated with a value\n",
      "\u001bcFCUH.TO\n",
      "\u001bc"
     ]
    },
    {
     "name": "stderr",
     "output_type": "stream",
     "text": [
      "$FCUL.TO: possibly delisted; no timezone found\n"
     ]
    },
    {
     "name": "stdout",
     "output_type": "stream",
     "text": [
      "Error with ticker:  FCUL.TO  -  cannot access local variable 'tbl' where it is not associated with a value\n",
      "\u001bcFCUQ.TO\n",
      "\u001bc"
     ]
    },
    {
     "name": "stderr",
     "output_type": "stream",
     "text": [
      "$FCUQ.U.T: possibly delisted; no timezone found\n"
     ]
    },
    {
     "name": "stdout",
     "output_type": "stream",
     "text": [
      "Error with ticker:  FCUQ.U.T  -  cannot access local variable 'tbl' where it is not associated with a value\n",
      "\u001bcFCUV.TO\n",
      "\u001bc"
     ]
    },
    {
     "name": "stderr",
     "output_type": "stream",
     "text": [
      "$FCUV.U.T: possibly delisted; no timezone found\n"
     ]
    },
    {
     "name": "stdout",
     "output_type": "stream",
     "text": [
      "Error with ticker:  FCUV.U.T  -  cannot access local variable 'tbl' where it is not associated with a value\n",
      "\u001bcFCVH.TO\n",
      "\u001bcFDE.TO\n",
      "\u001bcFDL.TO\n",
      "\u001bcFDN.TO\n",
      "\u001bc"
     ]
    },
    {
     "name": "stderr",
     "output_type": "stream",
     "text": [
      "$FDN.F.TO: possibly delisted; no timezone found\n"
     ]
    },
    {
     "name": "stdout",
     "output_type": "stream",
     "text": [
      "Error with ticker:  FDN.F.TO  -  cannot access local variable 'tbl' where it is not associated with a value\n",
      "\u001bcFDV.TO\n",
      "\u001bc"
     ]
    },
    {
     "name": "stderr",
     "output_type": "stream",
     "text": [
      "$FEBB.F.T: possibly delisted; no timezone found\n"
     ]
    },
    {
     "name": "stdout",
     "output_type": "stream",
     "text": [
      "Error with ticker:  FEBB.F.T  -  cannot access local variable 'tbl' where it is not associated with a value\n",
      "\u001bcFEME.TO\n",
      "\u001bcFGB.TO\n",
      "\u001bcFGBL.TO\n",
      "\u001bcFGO.TO\n",
      "\u001bc"
     ]
    },
    {
     "name": "stderr",
     "output_type": "stream",
     "text": [
      "$FGO.U.TO: possibly delisted; no timezone found\n"
     ]
    },
    {
     "name": "stdout",
     "output_type": "stream",
     "text": [
      "Error with ticker:  FGO.U.TO  -  cannot access local variable 'tbl' where it is not associated with a value\n",
      "\u001bcFGRW.TO\n",
      "\u001bcFHB.TO\n",
      "\u001bcFHC.TO\n",
      "\u001bcFHD.TO\n",
      "\u001bcFHE.TO\n",
      "\u001bcFHF.TO\n",
      "\u001bcFHG.TO\n",
      "\u001bc"
     ]
    },
    {
     "name": "stderr",
     "output_type": "stream",
     "text": [
      "$FHG.F.TO: possibly delisted; no timezone found\n"
     ]
    },
    {
     "name": "stdout",
     "output_type": "stream",
     "text": [
      "Error with ticker:  FHG.F.TO  -  cannot access local variable 'tbl' where it is not associated with a value\n",
      "\u001bcFHH.TO\n",
      "\u001bc"
     ]
    },
    {
     "name": "stderr",
     "output_type": "stream",
     "text": [
      "$FHH.F.TO: possibly delisted; no timezone found\n"
     ]
    },
    {
     "name": "stdout",
     "output_type": "stream",
     "text": [
      "Error with ticker:  FHH.F.TO  -  cannot access local variable 'tbl' where it is not associated with a value\n",
      "\u001bcFHI.TO\n",
      "\u001bc"
     ]
    },
    {
     "name": "stderr",
     "output_type": "stream",
     "text": [
      "$FHI.B.TO: possibly delisted; no timezone found\n"
     ]
    },
    {
     "name": "stdout",
     "output_type": "stream",
     "text": [
      "Error with ticker:  FHI.B.TO  -  cannot access local variable 'tbl' where it is not associated with a value\n",
      "\u001bc"
     ]
    },
    {
     "name": "stderr",
     "output_type": "stream",
     "text": [
      "$FHI.U.TO: possibly delisted; no timezone found\n"
     ]
    },
    {
     "name": "stdout",
     "output_type": "stream",
     "text": [
      "Error with ticker:  FHI.U.TO  -  cannot access local variable 'tbl' where it is not associated with a value\n",
      "\u001bcFHM.TO\n",
      "\u001bcFHQ.TO\n",
      "\u001bc"
     ]
    },
    {
     "name": "stderr",
     "output_type": "stream",
     "text": [
      "$FHQ.F.TO: possibly delisted; no timezone found\n"
     ]
    },
    {
     "name": "stdout",
     "output_type": "stream",
     "text": [
      "Error with ticker:  FHQ.F.TO  -  cannot access local variable 'tbl' where it is not associated with a value\n",
      "\u001bcFHU.TO\n",
      "\u001bcFIE.TO\n",
      "\u001bcFIG.TO\n",
      "\u001bc"
     ]
    },
    {
     "name": "stderr",
     "output_type": "stream",
     "text": [
      "$FIG.U.TO: possibly delisted; no timezone found\n"
     ]
    },
    {
     "name": "stdout",
     "output_type": "stream",
     "text": [
      "Error with ticker:  FIG.U.TO  -  cannot access local variable 'tbl' where it is not associated with a value\n",
      "\u001bcFINC.TO\n",
      "\u001bcFINE.TO\n",
      "\u001bcFINT.TO\n",
      "\u001bcFLAM.TO\n",
      "\u001bcFLB.TO\n",
      "\u001bcFLBA.TO\n",
      "\u001bcFLCD.TO\n",
      "\u001bcFLCI.TO\n",
      "\u001bcFLCP.TO\n",
      "\u001bcFLDM.TO\n",
      "\u001bcFLEM.TO\n",
      "\u001bcFLGA.TO\n",
      "\u001bcFLGD.TO\n",
      "\u001bcFLI.TO\n",
      "\u001bcFLJA.TO\n",
      "\u001bcFLOT.TO\n",
      "\u001bc"
     ]
    },
    {
     "name": "stderr",
     "output_type": "stream",
     "text": [
      "$FLOT.B.T: possibly delisted; no timezone found\n"
     ]
    },
    {
     "name": "stdout",
     "output_type": "stream",
     "text": [
      "Error with ticker:  FLOT.B.T  -  cannot access local variable 'tbl' where it is not associated with a value\n",
      "\u001bc"
     ]
    },
    {
     "name": "stderr",
     "output_type": "stream",
     "text": [
      "$FLOT.U.T: possibly delisted; no timezone found\n"
     ]
    },
    {
     "name": "stdout",
     "output_type": "stream",
     "text": [
      "Error with ticker:  FLOT.U.T  -  cannot access local variable 'tbl' where it is not associated with a value\n",
      "\u001bcFLRM.TO\n",
      "\u001bcFLSD.TO\n",
      "\u001bcFLSL.TO\n",
      "\u001bcFLUI.TO\n",
      "\u001bcFLUR.TO\n",
      "\u001bcFLUS.TO\n",
      "\u001bcFMAX.TO\n",
      "\u001bcFOUR.TO\n",
      "\u001bcFPR.TO\n",
      "\u001bcFQC.TO\n",
      "\u001bcFSB.TO\n",
      "\u001bcFSF.TO\n",
      "\u001bcFSL.TO\n",
      "\u001bcFSR.TO\n",
      "\u001bcFST.TO\n",
      "\u001bcFTB.TO\n",
      "\u001bcFUD.TO\n",
      "\u001bcFXM.TO\n",
      "\u001bcGBAL.TO\n",
      "\u001bcGCNS.TO\n",
      "\u001bcGEQT.TO\n",
      "\u001bcGGRO.TO\n",
      "\u001bcGIQG.TO\n",
      "\u001bc"
     ]
    },
    {
     "name": "stderr",
     "output_type": "stream",
     "text": [
      "$GIQG.B.T: possibly delisted; no timezone found\n"
     ]
    },
    {
     "name": "stdout",
     "output_type": "stream",
     "text": [
      "Error with ticker:  GIQG.B.T  -  cannot access local variable 'tbl' where it is not associated with a value\n",
      "\u001bcGLCC.TO\n",
      "\u001bcGRCC.TO\n",
      "\u001bcGRO.TO\n",
      "\u001bcHAB.TO\n",
      "\u001bcHAC.TO\n",
      "\u001bcHAD.TO\n",
      "\u001bcHAF.TO\n",
      "\u001bcHAJ.TO\n",
      "\u001bcHAL.TO\n",
      "\u001bcHARC.TO\n",
      "\u001bcHAU.TO\n",
      "\u001bcHAZ.TO\n",
      "\u001bcHBA.TO\n",
      "\u001bcHBAL.TO\n",
      "\u001bcHBB.TO\n",
      "\u001bcHBD.TO\n",
      "\u001bcHBF.TO\n",
      "\u001bc"
     ]
    },
    {
     "name": "stderr",
     "output_type": "stream",
     "text": [
      "$HBF.B.TO: possibly delisted; no timezone found\n"
     ]
    },
    {
     "name": "stdout",
     "output_type": "stream",
     "text": [
      "Error with ticker:  HBF.B.TO  -  cannot access local variable 'tbl' where it is not associated with a value\n",
      "\u001bc"
     ]
    },
    {
     "name": "stderr",
     "output_type": "stream",
     "text": [
      "$HBF.U.TO: possibly delisted; no timezone found\n"
     ]
    },
    {
     "name": "stdout",
     "output_type": "stream",
     "text": [
      "Error with ticker:  HBF.U.TO  -  cannot access local variable 'tbl' where it is not associated with a value\n",
      "\u001bcHBG.TO\n",
      "\u001bcHBGD.TO\n",
      "\u001bc"
     ]
    },
    {
     "name": "stderr",
     "output_type": "stream",
     "text": [
      "$HBGD.U.T: possibly delisted; no timezone found\n"
     ]
    },
    {
     "name": "stdout",
     "output_type": "stream",
     "text": [
      "Error with ticker:  HBGD.U.T  -  cannot access local variable 'tbl' where it is not associated with a value\n",
      "\u001bcHBIE.TO\n",
      "\u001bcHBIG.TO\n",
      "\u001bcHBIL.TO\n",
      "\u001bc"
     ]
    },
    {
     "name": "stderr",
     "output_type": "stream",
     "text": [
      "$HBIL.U.T: possibly delisted; no timezone found\n"
     ]
    },
    {
     "name": "stdout",
     "output_type": "stream",
     "text": [
      "Error with ticker:  HBIL.U.T  -  cannot access local variable 'tbl' where it is not associated with a value\n",
      "\u001bcHBLK.TO\n",
      "\u001bcHBND.TO\n",
      "\u001bc"
     ]
    },
    {
     "name": "stderr",
     "output_type": "stream",
     "text": [
      "$HBND.U.T: possibly delisted; no timezone found\n"
     ]
    },
    {
     "name": "stdout",
     "output_type": "stream",
     "text": [
      "Error with ticker:  HBND.U.T  -  cannot access local variable 'tbl' where it is not associated with a value\n",
      "\u001bcHBNK.TO\n",
      "\u001bcHBU.TO\n",
      "\u001bcHBUG.TO\n",
      "\u001bcHCA.TO\n",
      "\u001bcHCAL.TO\n",
      "\u001bcHCB.TO\n",
      "\u001bcHCLN.TO\n",
      "\u001bcHCN.TO\n",
      "\u001bcHCON.TO\n",
      "\u001bcHCRE.TO\n",
      "\u001bcHDIF.TO\n",
      "\u001bcHDIV.TO\n",
      "\u001bcHEA.TO\n",
      "\u001bcHEB.TO\n",
      "\u001bcHED.TO\n",
      "\u001bcHEE.TO\n",
      "\u001bcHEF.TO\n",
      "\u001bcHEJ.TO\n",
      "\u001bcHEMB.TO\n",
      "\u001bcHEP.TO\n",
      "\u001bcHEQL.TO\n",
      "\u001bcHEQT.TO\n",
      "\u001bcHERO.TO\n",
      "\u001bcHEU.TO\n",
      "\u001bcHEWB.TO\n",
      "\u001bcHEX.TO\n",
      "\u001bcHFA.TO\n",
      "\u001bcHFD.TO\n",
      "\u001bcHFG.TO\n",
      "\u001bcHFIN.TO\n",
      "\u001bcHFMU.TO\n",
      "\u001bcHFP.TO\n",
      "\u001bcHFR.TO\n",
      "\u001bcHFU.TO\n",
      "\u001bcHGD.TO\n",
      "\u001bcHGGB.TO\n",
      "\u001bcHGGG.TO\n",
      "\u001bcHGM.TO\n",
      "\u001bcHGR.TO\n",
      "\u001bcHGRO.TO\n",
      "\u001bcHGRW.TO\n",
      "\u001bcHGU.TO\n",
      "\u001bcHGY.TO\n",
      "\u001bcHHF.TO\n",
      "\u001bcHHL.TO\n",
      "\u001bc"
     ]
    },
    {
     "name": "stderr",
     "output_type": "stream",
     "text": [
      "$HHL.B.TO: possibly delisted; no timezone found\n"
     ]
    },
    {
     "name": "stdout",
     "output_type": "stream",
     "text": [
      "Error with ticker:  HHL.B.TO  -  cannot access local variable 'tbl' where it is not associated with a value\n",
      "\u001bc"
     ]
    },
    {
     "name": "stderr",
     "output_type": "stream",
     "text": [
      "$HHL.U.TO: possibly delisted; no timezone found\n"
     ]
    },
    {
     "name": "stdout",
     "output_type": "stream",
     "text": [
      "Error with ticker:  HHL.U.TO  -  cannot access local variable 'tbl' where it is not associated with a value\n",
      "\u001bcHHLE.TO\n",
      "\u001bcHIG.TO\n",
      "\u001bc"
     ]
    },
    {
     "name": "stderr",
     "output_type": "stream",
     "text": [
      "$HIG.U.TO: possibly delisted; no timezone found\n"
     ]
    },
    {
     "name": "stdout",
     "output_type": "stream",
     "text": [
      "Error with ticker:  HIG.U.TO  -  cannot access local variable 'tbl' where it is not associated with a value\n",
      "\u001bcHII.TO\n",
      "\u001bcHIND.TO\n",
      "\u001bcHIU.TO\n",
      "\u001bcHIX.TO\n",
      "\u001bcHLIF.TO\n",
      "\u001bcHLIT.TO\n",
      "\u001bcHLPR.TO\n",
      "\u001bcHMAX.TO\n",
      "\u001bcHMJI.TO\n",
      "\u001bcHMJU.TO\n",
      "\u001bcHMMJ.TO\n",
      "\u001bc"
     ]
    },
    {
     "name": "stderr",
     "output_type": "stream",
     "text": [
      "$HMMJ.U.T: possibly delisted; no timezone found\n"
     ]
    },
    {
     "name": "stdout",
     "output_type": "stream",
     "text": [
      "Error with ticker:  HMMJ.U.T  -  cannot access local variable 'tbl' where it is not associated with a value\n",
      "\u001bcHMP.TO\n",
      "\u001bcHND.TO\n",
      "\u001bcHNU.TO\n",
      "\u001bcHNY.TO\n",
      "\u001bcHOD.TO\n",
      "\u001bcHOG.TO\n",
      "\u001bcHOU.TO\n",
      "\u001bcHPF.TO\n",
      "\u001bc"
     ]
    },
    {
     "name": "stderr",
     "output_type": "stream",
     "text": [
      "$HPF.U.TO: possibly delisted; no timezone found\n"
     ]
    },
    {
     "name": "stdout",
     "output_type": "stream",
     "text": [
      "Error with ticker:  HPF.U.TO  -  cannot access local variable 'tbl' where it is not associated with a value\n",
      "\u001bcHPR.TO\n",
      "\u001bcHPYM.TO\n",
      "\u001bc"
     ]
    },
    {
     "name": "stderr",
     "output_type": "stream",
     "text": [
      "$HPYM.U.T: possibly delisted; no timezone found\n"
     ]
    },
    {
     "name": "stdout",
     "output_type": "stream",
     "text": [
      "Error with ticker:  HPYM.U.T  -  cannot access local variable 'tbl' where it is not associated with a value\n",
      "\u001bcHPYT.TO\n",
      "\u001bc"
     ]
    },
    {
     "name": "stderr",
     "output_type": "stream",
     "text": [
      "$HPYT.B.T: possibly delisted; no timezone found\n"
     ]
    },
    {
     "name": "stdout",
     "output_type": "stream",
     "text": [
      "Error with ticker:  HPYT.B.T  -  cannot access local variable 'tbl' where it is not associated with a value\n",
      "\u001bc"
     ]
    },
    {
     "name": "stderr",
     "output_type": "stream",
     "text": [
      "$HPYT.U.T: possibly delisted; no timezone found\n"
     ]
    },
    {
     "name": "stdout",
     "output_type": "stream",
     "text": [
      "Error with ticker:  HPYT.U.T  -  cannot access local variable 'tbl' where it is not associated with a value\n",
      "\u001bcHQD.TO\n",
      "\u001bcHQU.TO\n",
      "\u001bcHRA.TO\n",
      "\u001bcHRAA.TO\n",
      "\u001bcHRES.TO\n",
      "\u001bcHRIF.TO\n",
      "\u001bcHSAV.TO\n",
      "\u001bcHSD.TO\n",
      "\u001bcHSH.TO\n",
      "\u001bcHSL.TO\n",
      "\u001bcHSU.TO\n",
      "\u001bc"
     ]
    },
    {
     "name": "stderr",
     "output_type": "stream",
     "text": [
      "$HSUV.U.T: possibly delisted; no timezone found\n"
     ]
    },
    {
     "name": "stdout",
     "output_type": "stream",
     "text": [
      "Error with ticker:  HSUV.U.T  -  cannot access local variable 'tbl' where it is not associated with a value\n",
      "\u001bcHTA.TO\n",
      "\u001bc"
     ]
    },
    {
     "name": "stderr",
     "output_type": "stream",
     "text": [
      "$HTA.B.TO: possibly delisted; no timezone found\n"
     ]
    },
    {
     "name": "stdout",
     "output_type": "stream",
     "text": [
      "Error with ticker:  HTA.B.TO  -  cannot access local variable 'tbl' where it is not associated with a value\n",
      "\u001bc"
     ]
    },
    {
     "name": "stderr",
     "output_type": "stream",
     "text": [
      "$HTA.U.TO: possibly delisted; no timezone found\n"
     ]
    },
    {
     "name": "stdout",
     "output_type": "stream",
     "text": [
      "Error with ticker:  HTA.U.TO  -  cannot access local variable 'tbl' where it is not associated with a value\n",
      "\u001bcHTAE.TO\n",
      "\u001bcHTB.TO\n",
      "\u001bc"
     ]
    },
    {
     "name": "stderr",
     "output_type": "stream",
     "text": [
      "$HTB.U.TO: possibly delisted; no timezone found\n"
     ]
    },
    {
     "name": "stdout",
     "output_type": "stream",
     "text": [
      "Error with ticker:  HTB.U.TO  -  cannot access local variable 'tbl' where it is not associated with a value\n",
      "\u001bcHTH.TO\n",
      "\u001bcHUBL.TO\n",
      "\u001bc"
     ]
    },
    {
     "name": "stderr",
     "output_type": "stream",
     "text": [
      "$HUBL.U.T: possibly delisted; no timezone found\n"
     ]
    },
    {
     "name": "stdout",
     "output_type": "stream",
     "text": [
      "Error with ticker:  HUBL.U.T  -  cannot access local variable 'tbl' where it is not associated with a value\n",
      "\u001bcHUC.TO\n",
      "\u001bcHUF.TO\n",
      "\u001bcHUG.TO\n",
      "\u001bcHUIB.TO\n",
      "\u001bcHUL.TO\n",
      "\u001bcHULC.TO\n",
      "\u001bc"
     ]
    },
    {
     "name": "stderr",
     "output_type": "stream",
     "text": [
      "$HULC.U.T: possibly delisted; no timezone found\n"
     ]
    },
    {
     "name": "stdout",
     "output_type": "stream",
     "text": [
      "Error with ticker:  HULC.U.T  -  cannot access local variable 'tbl' where it is not associated with a value\n",
      "\u001bcHUM.TO\n",
      "\u001bcHUN.TO\n",
      "\u001bcHURA.TO\n",
      "\u001bcHUTE.TO\n",
      "\u001bcHUTL.TO\n",
      "\u001bcHUTS.TO\n",
      "\u001bcHUV.TO\n",
      "\u001bcHUZ.TO\n",
      "\u001bcHWF.TO\n",
      "\u001bcHXCN.TO\n",
      "\u001bcHXD.TO\n",
      "\u001bcHXDM.TO\n",
      "\u001bc"
     ]
    },
    {
     "name": "stderr",
     "output_type": "stream",
     "text": [
      "$HXDM.U.T: possibly delisted; no timezone found\n"
     ]
    },
    {
     "name": "stdout",
     "output_type": "stream",
     "text": [
      "Error with ticker:  HXDM.U.T  -  cannot access local variable 'tbl' where it is not associated with a value\n",
      "\u001bcHXE.TO\n",
      "\u001bcHXEM.TO\n",
      "\u001bcHXF.TO\n",
      "\u001bcHXH.TO\n",
      "\u001bcHXQ.TO\n",
      "\u001bc"
     ]
    },
    {
     "name": "stderr",
     "output_type": "stream",
     "text": [
      "$HXQ.U.TO: possibly delisted; no timezone found\n"
     ]
    },
    {
     "name": "stdout",
     "output_type": "stream",
     "text": [
      "Error with ticker:  HXQ.U.TO  -  cannot access local variable 'tbl' where it is not associated with a value\n",
      "\u001bcHXS.TO\n",
      "\u001bc"
     ]
    },
    {
     "name": "stderr",
     "output_type": "stream",
     "text": [
      "$HXS.U.TO: possibly delisted; no timezone found\n"
     ]
    },
    {
     "name": "stdout",
     "output_type": "stream",
     "text": [
      "Error with ticker:  HXS.U.TO  -  cannot access local variable 'tbl' where it is not associated with a value\n",
      "\u001bcHXT.TO\n",
      "\u001bc"
     ]
    },
    {
     "name": "stderr",
     "output_type": "stream",
     "text": [
      "$HXT.U.TO: possibly delisted; no timezone found\n"
     ]
    },
    {
     "name": "stdout",
     "output_type": "stream",
     "text": [
      "Error with ticker:  HXT.U.TO  -  cannot access local variable 'tbl' where it is not associated with a value\n",
      "\u001bcHXU.TO\n",
      "\u001bcHXX.TO\n",
      "\u001bcHYBR.TO\n",
      "\u001bcHYI.TO\n",
      "\u001bcHYLD.TO\n",
      "\u001bc"
     ]
    },
    {
     "name": "stderr",
     "output_type": "stream",
     "text": [
      "$HYLD.U.T: possibly delisted; no timezone found\n"
     ]
    },
    {
     "name": "stdout",
     "output_type": "stream",
     "text": [
      "Error with ticker:  HYLD.U.T  -  cannot access local variable 'tbl' where it is not associated with a value\n",
      "\u001bcHZD.TO\n",
      "\u001bcHZU.TO\n",
      "\u001bcICAE.TO\n",
      "\u001bc"
     ]
    },
    {
     "name": "stderr",
     "output_type": "stream",
     "text": [
      "$ICBB.TO: possibly delisted; no timezone found\n"
     ]
    },
    {
     "name": "stdout",
     "output_type": "stream",
     "text": [
      "Error with ticker:  ICBB.TO  -  cannot access local variable 'tbl' where it is not associated with a value\n",
      "\u001bcICCB.TO\n",
      "\u001bcICGB.TO\n",
      "\u001bcICTE.TO\n",
      "\u001bc"
     ]
    },
    {
     "name": "stderr",
     "output_type": "stream",
     "text": [
      "$IDEF.B.T: possibly delisted; no timezone found\n"
     ]
    },
    {
     "name": "stdout",
     "output_type": "stream",
     "text": [
      "Error with ticker:  IDEF.B.T  -  cannot access local variable 'tbl' where it is not associated with a value\n",
      "\u001bc"
     ]
    },
    {
     "name": "stderr",
     "output_type": "stream",
     "text": [
      "$IDIV.B.T: possibly delisted; no timezone found\n"
     ]
    },
    {
     "name": "stdout",
     "output_type": "stream",
     "text": [
      "Error with ticker:  IDIV.B.T  -  cannot access local variable 'tbl' where it is not associated with a value\n",
      "\u001bcIDR.TO\n",
      "\u001bcIGET.TO\n",
      "\u001bc"
     ]
    },
    {
     "name": "stderr",
     "output_type": "stream",
     "text": [
      "$IGET.F.T: possibly delisted; no timezone found\n"
     ]
    },
    {
     "name": "stdout",
     "output_type": "stream",
     "text": [
      "Error with ticker:  IGET.F.T  -  cannot access local variable 'tbl' where it is not associated with a value\n",
      "\u001bcIIAE.TO\n",
      "\u001bc"
     ]
    },
    {
     "name": "stderr",
     "output_type": "stream",
     "text": [
      "$IIAE.F.T: possibly delisted; no timezone found\n"
     ]
    },
    {
     "name": "stdout",
     "output_type": "stream",
     "text": [
      "Error with ticker:  IIAE.F.T  -  cannot access local variable 'tbl' where it is not associated with a value\n",
      "\u001bcIICE.TO\n",
      "\u001bc"
     ]
    },
    {
     "name": "stderr",
     "output_type": "stream",
     "text": [
      "$IICE.F.T: possibly delisted; no timezone found\n"
     ]
    },
    {
     "name": "stdout",
     "output_type": "stream",
     "text": [
      "Error with ticker:  IICE.F.T  -  cannot access local variable 'tbl' where it is not associated with a value\n",
      "\u001bcIIMF.TO\n",
      "\u001bc"
     ]
    },
    {
     "name": "stderr",
     "output_type": "stream",
     "text": [
      "$IIMF.F.T: possibly delisted; no timezone found\n"
     ]
    },
    {
     "name": "stdout",
     "output_type": "stream",
     "text": [
      "Error with ticker:  IIMF.F.T  -  cannot access local variable 'tbl' where it is not associated with a value\n",
      "\u001bcIITE.TO\n",
      "\u001bc"
     ]
    },
    {
     "name": "stderr",
     "output_type": "stream",
     "text": [
      "$IITE.F.T: possibly delisted; no timezone found\n"
     ]
    },
    {
     "name": "stdout",
     "output_type": "stream",
     "text": [
      "Error with ticker:  IITE.F.T  -  cannot access local variable 'tbl' where it is not associated with a value\n",
      "\u001bcILV.TO\n",
      "\u001bcINAI.TO\n",
      "\u001bc"
     ]
    },
    {
     "name": "stderr",
     "output_type": "stream",
     "text": [
      "$INAI.F.T: possibly delisted; no timezone found\n"
     ]
    },
    {
     "name": "stdout",
     "output_type": "stream",
     "text": [
      "Error with ticker:  INAI.F.T  -  cannot access local variable 'tbl' where it is not associated with a value\n",
      "\u001bcINOC.TO\n",
      "\u001bcIQD.TO\n",
      "\u001bc"
     ]
    },
    {
     "name": "stderr",
     "output_type": "stream",
     "text": [
      "$IQD.B.TO: possibly delisted; no timezone found\n"
     ]
    },
    {
     "name": "stdout",
     "output_type": "stream",
     "text": [
      "Error with ticker:  IQD.B.TO  -  cannot access local variable 'tbl' where it is not associated with a value\n",
      "\u001bcISTE.TO\n",
      "\u001bc"
     ]
    },
    {
     "name": "stderr",
     "output_type": "stream",
     "text": [
      "$ISTE.F.T: possibly delisted; no timezone found\n"
     ]
    },
    {
     "name": "stdout",
     "output_type": "stream",
     "text": [
      "Error with ticker:  ISTE.F.T  -  cannot access local variable 'tbl' where it is not associated with a value\n",
      "\u001bcIUAE.TO\n",
      "\u001bc"
     ]
    },
    {
     "name": "stderr",
     "output_type": "stream",
     "text": [
      "$IUAE.F.T: possibly delisted; no timezone found\n"
     ]
    },
    {
     "name": "stdout",
     "output_type": "stream",
     "text": [
      "Error with ticker:  IUAE.F.T  -  cannot access local variable 'tbl' where it is not associated with a value\n",
      "\u001bcIUCE.TO\n",
      "\u001bc"
     ]
    },
    {
     "name": "stderr",
     "output_type": "stream",
     "text": [
      "$IUCE.F.T: possibly delisted; no timezone found\n"
     ]
    },
    {
     "name": "stdout",
     "output_type": "stream",
     "text": [
      "Error with ticker:  IUCE.F.T  -  cannot access local variable 'tbl' where it is not associated with a value\n",
      "\u001bc"
     ]
    },
    {
     "name": "stderr",
     "output_type": "stream",
     "text": [
      "$IUFR.U.T: possibly delisted; no timezone found\n"
     ]
    },
    {
     "name": "stdout",
     "output_type": "stream",
     "text": [
      "Error with ticker:  IUFR.U.T  -  cannot access local variable 'tbl' where it is not associated with a value\n",
      "\u001bcIUMF.TO\n",
      "\u001bc"
     ]
    },
    {
     "name": "stderr",
     "output_type": "stream",
     "text": [
      "$IUMF.F.T: possibly delisted; no timezone found\n"
     ]
    },
    {
     "name": "stdout",
     "output_type": "stream",
     "text": [
      "Error with ticker:  IUMF.F.T  -  cannot access local variable 'tbl' where it is not associated with a value\n",
      "\u001bcIUTE.TO\n",
      "\u001bc"
     ]
    },
    {
     "name": "stderr",
     "output_type": "stream",
     "text": [
      "$IUTE.F.T: possibly delisted; no timezone found\n"
     ]
    },
    {
     "name": "stdout",
     "output_type": "stream",
     "text": [
      "Error with ticker:  IUTE.F.T  -  cannot access local variable 'tbl' where it is not associated with a value\n",
      "\u001bcIWBE.TO\n",
      "\u001bcIXTE.TO\n",
      "\u001bcJAPN.TO\n",
      "\u001bc"
     ]
    },
    {
     "name": "stderr",
     "output_type": "stream",
     "text": [
      "$JAPN.B.T: possibly delisted; no timezone found\n"
     ]
    },
    {
     "name": "stdout",
     "output_type": "stream",
     "text": [
      "Error with ticker:  JAPN.B.T  -  cannot access local variable 'tbl' where it is not associated with a value\n",
      "\u001bcJEPI.TO\n",
      "\u001bcJEPQ.TO\n",
      "\u001bcKNGC.TO\n",
      "\u001bcKNGU.TO\n",
      "\u001bcKNGX.TO\n",
      "\u001bcLLHE.TO\n",
      "\u001bc"
     ]
    },
    {
     "name": "stderr",
     "output_type": "stream",
     "text": [
      "$LLHE.U.T: possibly delisted; no timezone found\n"
     ]
    },
    {
     "name": "stdout",
     "output_type": "stream",
     "text": [
      "Error with ticker:  LLHE.U.T  -  cannot access local variable 'tbl' where it is not associated with a value\n",
      "\u001bcLLYH.TO\n",
      "\u001bc"
     ]
    },
    {
     "name": "stderr",
     "output_type": "stream",
     "text": [
      "$LLYH.U.T: possibly delisted; no timezone found\n"
     ]
    },
    {
     "name": "stdout",
     "output_type": "stream",
     "text": [
      "Error with ticker:  LLYH.U.T  -  cannot access local variable 'tbl' where it is not associated with a value\n",
      "\u001bcLMAX.TO\n",
      "\u001bcLPAY.TO\n",
      "\u001bc"
     ]
    },
    {
     "name": "stderr",
     "output_type": "stream",
     "text": [
      "$LPAY.U.T: possibly delisted; no timezone found\n"
     ]
    },
    {
     "name": "stdout",
     "output_type": "stream",
     "text": [
      "Error with ticker:  LPAY.U.T  -  cannot access local variable 'tbl' where it is not associated with a value\n",
      "\u001bcLS.TO\n",
      "\u001bcLYCT.TO\n",
      "\u001bcLYFR.TO\n",
      "\u001bc"
     ]
    },
    {
     "name": "stderr",
     "output_type": "stream",
     "text": [
      "$MAYB.F.T: possibly delisted; no timezone found\n"
     ]
    },
    {
     "name": "stdout",
     "output_type": "stream",
     "text": [
      "Error with ticker:  MAYB.F.T  -  cannot access local variable 'tbl' where it is not associated with a value\n",
      "\u001bcMBAL.TO\n",
      "\u001bcMCLC.TO\n",
      "\u001bcMCLV.TO\n",
      "\u001bcMCON.TO\n",
      "\u001bcMCSB.TO\n",
      "\u001bcMCSM.TO\n",
      "\u001bcMDIV.TO\n",
      "\u001bcMDVD.TO\n",
      "\u001bc"
     ]
    },
    {
     "name": "stderr",
     "output_type": "stream",
     "text": [
      "$MDVD.U.T: possibly delisted; no timezone found\n"
     ]
    },
    {
     "name": "stdout",
     "output_type": "stream",
     "text": [
      "Error with ticker:  MDVD.U.T  -  cannot access local variable 'tbl' where it is not associated with a value\n",
      "\u001bcMEE.TO\n",
      "\u001bc"
     ]
    },
    {
     "name": "stderr",
     "output_type": "stream",
     "text": [
      "$MEME.B.T: possibly delisted; no timezone found\n"
     ]
    },
    {
     "name": "stdout",
     "output_type": "stream",
     "text": [
      "Error with ticker:  MEME.B.T  -  cannot access local variable 'tbl' where it is not associated with a value\n",
      "\u001bcMEQT.TO\n",
      "\u001bcMEU.TO\n",
      "\u001bcMFT.TO\n",
      "\u001bcMGAB.TO\n",
      "\u001bcMGB.TO\n",
      "\u001bcMGDV.TO\n",
      "\u001bcMGQE.TO\n",
      "\u001bcMGRW.TO\n",
      "\u001bcMHCD.TO\n",
      "\u001bcMIND.TO\n",
      "\u001bcMINF.TO\n",
      "\u001bcMINN.TO\n",
      "\u001bcMINT.TO\n",
      "\u001bc"
     ]
    },
    {
     "name": "stderr",
     "output_type": "stream",
     "text": [
      "$MINT.B.T: possibly delisted; no timezone found\n"
     ]
    },
    {
     "name": "stdout",
     "output_type": "stream",
     "text": [
      "Error with ticker:  MINT.B.T  -  cannot access local variable 'tbl' where it is not associated with a value\n",
      "\u001bcMIQE.TO\n",
      "\u001bcMIVG.TO\n",
      "\u001bcMKB.TO\n",
      "\u001bcMKC.TO\n",
      "\u001bcMNXT.TO\n",
      "\u001bcMORE.TO\n",
      "\u001bcMPAY.TO\n",
      "\u001bc"
     ]
    },
    {
     "name": "stderr",
     "output_type": "stream",
     "text": [
      "$MPAY.U.T: possibly delisted; no timezone found\n"
     ]
    },
    {
     "name": "stdout",
     "output_type": "stream",
     "text": [
      "Error with ticker:  MPAY.U.T  -  cannot access local variable 'tbl' where it is not associated with a value\n",
      "\u001bcMPCF.TO\n",
      "\u001bcMREL.TO\n",
      "\u001bcMSFH.TO\n",
      "\u001bc"
     ]
    },
    {
     "name": "stderr",
     "output_type": "stream",
     "text": [
      "$MSFH.U.T: possibly delisted; no timezone found\n"
     ]
    },
    {
     "name": "stdout",
     "output_type": "stream",
     "text": [
      "Error with ticker:  MSFH.U.T  -  cannot access local variable 'tbl' where it is not associated with a value\n",
      "\u001bcMSHE.TO\n",
      "\u001bc"
     ]
    },
    {
     "name": "stderr",
     "output_type": "stream",
     "text": [
      "$MSHE.U.T: possibly delisted; no timezone found\n"
     ]
    },
    {
     "name": "stdout",
     "output_type": "stream",
     "text": [
      "Error with ticker:  MSHE.U.T  -  cannot access local variable 'tbl' where it is not associated with a value\n",
      "\u001bcMTAV.TO\n",
      "\u001bcMUB.TO\n",
      "\u001bcMULC.TO\n",
      "\u001bc"
     ]
    },
    {
     "name": "stderr",
     "output_type": "stream",
     "text": [
      "$MULC.B.T: possibly delisted; no timezone found\n"
     ]
    },
    {
     "name": "stdout",
     "output_type": "stream",
     "text": [
      "Error with ticker:  MULC.B.T  -  cannot access local variable 'tbl' where it is not associated with a value\n",
      "\u001bcMULV.TO\n",
      "\u001bcMUMC.TO\n",
      "\u001bc"
     ]
    },
    {
     "name": "stderr",
     "output_type": "stream",
     "text": [
      "$MUMC.B.T: possibly delisted; no timezone found\n"
     ]
    },
    {
     "name": "stdout",
     "output_type": "stream",
     "text": [
      "Error with ticker:  MUMC.B.T  -  cannot access local variable 'tbl' where it is not associated with a value\n",
      "\u001bcMUS.TO\n",
      "\u001bcMUSA.TO\n",
      "\u001bcMUSC.TO\n",
      "\u001bc"
     ]
    },
    {
     "name": "stderr",
     "output_type": "stream",
     "text": [
      "$MUSC.B.T: possibly delisted; no timezone found\n"
     ]
    },
    {
     "name": "stdout",
     "output_type": "stream",
     "text": [
      "Error with ticker:  MUSC.B.T  -  cannot access local variable 'tbl' where it is not associated with a value\n",
      "\u001bcMWD.TO\n",
      "\u001bcMWLV.TO\n",
      "\u001bcMXU.TO\n",
      "\u001bcNALT.TO\n",
      "\u001bcNDIV.TO\n",
      "\u001bcNFAM.TO\n",
      "\u001bcNGPE.TO\n",
      "\u001bcNHYB.TO\n",
      "\u001bcNINT.TO\n",
      "\u001bc"
     ]
    },
    {
     "name": "stderr",
     "output_type": "stream",
     "text": [
      "$NOVB.F.T: possibly delisted; no timezone found\n"
     ]
    },
    {
     "name": "stdout",
     "output_type": "stream",
     "text": [
      "Error with ticker:  NOVB.F.T  -  cannot access local variable 'tbl' where it is not associated with a value\n",
      "\u001bcNPRF.TO\n",
      "\u001bcNREA.TO\n",
      "\u001bcNSCB.TO\n",
      "\u001bcNSCC.TO\n",
      "\u001bcNSCE.TO\n",
      "\u001bcNSGE.TO\n",
      "\u001bcNSSB.TO\n",
      "\u001bcNUBF.TO\n",
      "\u001bcNUSA.TO\n",
      "\u001bcNVDH.TO\n",
      "\u001bc"
     ]
    },
    {
     "name": "stderr",
     "output_type": "stream",
     "text": [
      "$NVDH.U.T: possibly delisted; no timezone found\n"
     ]
    },
    {
     "name": "stdout",
     "output_type": "stream",
     "text": [
      "Error with ticker:  NVDH.U.T  -  cannot access local variable 'tbl' where it is not associated with a value\n",
      "\u001bcNVHE.TO\n",
      "\u001bc"
     ]
    },
    {
     "name": "stderr",
     "output_type": "stream",
     "text": [
      "$NVHE.U.T: possibly delisted; no timezone found\n"
     ]
    },
    {
     "name": "stdout",
     "output_type": "stream",
     "text": [
      "Error with ticker:  NVHE.U.T  -  cannot access local variable 'tbl' where it is not associated with a value\n",
      "\u001bcNXF.TO\n",
      "\u001bc"
     ]
    },
    {
     "name": "stderr",
     "output_type": "stream",
     "text": [
      "$NXF.B.TO: possibly delisted; no timezone found\n"
     ]
    },
    {
     "name": "stdout",
     "output_type": "stream",
     "text": [
      "Error with ticker:  NXF.B.TO  -  cannot access local variable 'tbl' where it is not associated with a value\n",
      "\u001bc"
     ]
    },
    {
     "name": "stderr",
     "output_type": "stream",
     "text": [
      "$NXF.U.TO: possibly delisted; no timezone found\n"
     ]
    },
    {
     "name": "stdout",
     "output_type": "stream",
     "text": [
      "Error with ticker:  NXF.U.TO  -  cannot access local variable 'tbl' where it is not associated with a value\n",
      "\u001bcNXTG.TO\n",
      "\u001bcONEB.TO\n",
      "\u001bcONEC.TO\n",
      "\u001bcONEQ.TO\n",
      "\u001bcPAYS.TO\n",
      "\u001bcPDC.TO\n",
      "\u001bc"
     ]
    },
    {
     "name": "stderr",
     "output_type": "stream",
     "text": [
      "$PFH.F.TO: possibly delisted; no timezone found\n"
     ]
    },
    {
     "name": "stdout",
     "output_type": "stream",
     "text": [
      "Error with ticker:  PFH.F.TO  -  cannot access local variable 'tbl' where it is not associated with a value\n",
      "\u001bcPFL.TO\n",
      "\u001bcPLV.TO\n",
      "\u001bcPPLN.TO\n",
      "\u001bcPPS.TO\n",
      "\u001bcPR.TO\n",
      "\u001bcPREF.TO\n",
      "\u001bcPSA.TO\n",
      "\u001bcPSB.TO\n",
      "\u001bc"
     ]
    },
    {
     "name": "stderr",
     "output_type": "stream",
     "text": [
      "$PSU.U.TO: possibly delisted; no timezone found\n"
     ]
    },
    {
     "name": "stdout",
     "output_type": "stream",
     "text": [
      "Error with ticker:  PSU.U.TO  -  cannot access local variable 'tbl' where it is not associated with a value\n",
      "\u001bcPSY.TO\n",
      "\u001bcPTB.TO\n",
      "\u001bcPXC.TO\n",
      "\u001bcPXG.TO\n",
      "\u001bcPXS.TO\n",
      "\u001bc"
     ]
    },
    {
     "name": "stderr",
     "output_type": "stream",
     "text": [
      "$PXS.U.TO: possibly delisted; no timezone found\n"
     ]
    },
    {
     "name": "stdout",
     "output_type": "stream",
     "text": [
      "Error with ticker:  PXS.U.TO  -  cannot access local variable 'tbl' where it is not associated with a value\n",
      "\u001bc"
     ]
    },
    {
     "name": "stderr",
     "output_type": "stream",
     "text": [
      "$PXU.F.TO: possibly delisted; no timezone found\n"
     ]
    },
    {
     "name": "stdout",
     "output_type": "stream",
     "text": [
      "Error with ticker:  PXU.F.TO  -  cannot access local variable 'tbl' where it is not associated with a value\n",
      "\u001bcPZC.TO\n",
      "\u001bcPZW.TO\n",
      "\u001bc"
     ]
    },
    {
     "name": "stderr",
     "output_type": "stream",
     "text": [
      "$PZW.F.TO: possibly delisted; no timezone found\n"
     ]
    },
    {
     "name": "stdout",
     "output_type": "stream",
     "text": [
      "Error with ticker:  PZW.F.TO  -  cannot access local variable 'tbl' where it is not associated with a value\n",
      "\u001bc"
     ]
    },
    {
     "name": "stderr",
     "output_type": "stream",
     "text": [
      "$PZW.U.TO: possibly delisted; no timezone found\n"
     ]
    },
    {
     "name": "stdout",
     "output_type": "stream",
     "text": [
      "Error with ticker:  PZW.U.TO  -  cannot access local variable 'tbl' where it is not associated with a value\n",
      "\u001bcQAH.TO\n",
      "\u001bcQASH.TO\n",
      "\u001bcQBB.TO\n",
      "\u001bcQBTL.TO\n",
      "\u001bcQCD.TO\n",
      "\u001bcQCE.TO\n",
      "\u001bcQCLN.TO\n",
      "\u001bcQCN.TO\n",
      "\u001bcQDX.TO\n",
      "\u001bcQDXB.TO\n",
      "\u001bcQDXH.TO\n",
      "\u001bcQEBH.TO\n",
      "\u001bcQEBL.TO\n",
      "\u001bcQEE.TO\n",
      "\u001bcQEM.TO\n",
      "\u001bcQGL.TO\n",
      "\u001bcQHY.TO\n",
      "\u001bcQIE.TO\n",
      "\u001bcQINF.TO\n",
      "\u001bc"
     ]
    },
    {
     "name": "stderr",
     "output_type": "stream",
     "text": [
      "$QINF CN.: possibly delisted; no timezone found\n"
     ]
    },
    {
     "name": "stdout",
     "output_type": "stream",
     "text": [
      "Error with ticker:  QINF CN.  -  cannot access local variable 'tbl' where it is not associated with a value\n",
      "\u001bcQLB.TO\n",
      "\u001bcQMA.TO\n",
      "\u001bcQMAX.TO\n",
      "\u001bcQMY.TO\n",
      "\u001bcQQC.TO\n",
      "\u001bc"
     ]
    },
    {
     "name": "stderr",
     "output_type": "stream",
     "text": [
      "$QQC.F.TO: possibly delisted; no timezone found\n"
     ]
    },
    {
     "name": "stdout",
     "output_type": "stream",
     "text": [
      "Error with ticker:  QQC.F.TO  -  cannot access local variable 'tbl' where it is not associated with a value\n",
      "\u001bcQQCC.TO\n",
      "\u001bcQQCE.TO\n",
      "\u001bc"
     ]
    },
    {
     "name": "stderr",
     "output_type": "stream",
     "text": [
      "$QQCE.F.T: possibly delisted; no timezone found\n"
     ]
    },
    {
     "name": "stdout",
     "output_type": "stream",
     "text": [
      "Error with ticker:  QQCE.F.T  -  cannot access local variable 'tbl' where it is not associated with a value\n",
      "\u001bcQQCI.TO\n",
      "\u001bcQQCL.TO\n",
      "\u001bcQQEQ.TO\n",
      "\u001bc"
     ]
    },
    {
     "name": "stderr",
     "output_type": "stream",
     "text": [
      "$QQEQ.F.T: possibly delisted; no timezone found\n"
     ]
    },
    {
     "name": "stdout",
     "output_type": "stream",
     "text": [
      "Error with ticker:  QQEQ.F.T  -  cannot access local variable 'tbl' where it is not associated with a value\n",
      "\u001bcQQJE.TO\n",
      "\u001bc"
     ]
    },
    {
     "name": "stderr",
     "output_type": "stream",
     "text": [
      "$QQJE.F.T: possibly delisted; no timezone found\n"
     ]
    },
    {
     "name": "stdout",
     "output_type": "stream",
     "text": [
      "Error with ticker:  QQJE.F.T  -  cannot access local variable 'tbl' where it is not associated with a value\n",
      "\u001bcQQJR.TO\n",
      "\u001bc"
     ]
    },
    {
     "name": "stderr",
     "output_type": "stream",
     "text": [
      "$QQJR.F.T: possibly delisted; no timezone found\n"
     ]
    },
    {
     "name": "stdout",
     "output_type": "stream",
     "text": [
      "Error with ticker:  QQJR.F.T  -  cannot access local variable 'tbl' where it is not associated with a value\n",
      "\u001bcQQQL.TO\n",
      "\u001bcQQQX.TO\n",
      "\u001bc"
     ]
    },
    {
     "name": "stderr",
     "output_type": "stream",
     "text": [
      "$QQQX.U.T: possibly delisted; no timezone found\n"
     ]
    },
    {
     "name": "stdout",
     "output_type": "stream",
     "text": [
      "Error with ticker:  QQQX.U.T  -  cannot access local variable 'tbl' where it is not associated with a value\n",
      "\u001bcQRET.TO\n",
      "\u001bcQSB.TO\n",
      "\u001bcQTLT.TO\n",
      "\u001bcQUB.TO\n",
      "\u001bcQUDV.TO\n",
      "\u001bcQUIG.TO\n",
      "\u001bcQUS.TO\n",
      "\u001bcQUU.TO\n",
      "\u001bc"
     ]
    },
    {
     "name": "stderr",
     "output_type": "stream",
     "text": [
      "$QUU.U.TO: possibly delisted; no timezone found\n"
     ]
    },
    {
     "name": "stdout",
     "output_type": "stream",
     "text": [
      "Error with ticker:  QUU.U.TO  -  cannot access local variable 'tbl' where it is not associated with a value\n",
      "\u001bcQXM.TO\n",
      "\u001bcRBDI.TO\n",
      "\u001bcRBNK.TO\n",
      "\u001bcRBO.TO\n",
      "\u001bcRBOT.TO\n",
      "\u001bc"
     ]
    },
    {
     "name": "stderr",
     "output_type": "stream",
     "text": [
      "$RBOT.U.T: possibly delisted; no timezone found\n"
     ]
    },
    {
     "name": "stdout",
     "output_type": "stream",
     "text": [
      "Error with ticker:  RBOT.U.T  -  cannot access local variable 'tbl' where it is not associated with a value\n",
      "\u001bcRCD.TO\n",
      "\u001bcRCDC.TO\n",
      "\u001bcRCE.TO\n",
      "\u001bcRDBH.TO\n",
      "\u001bcREIT.TO\n",
      "\u001bcRGQN.TO\n",
      "\u001bcRGQO.TO\n",
      "\u001bcRGQP.TO\n",
      "\u001bcRGQQ.TO\n",
      "\u001bcRGQR.TO\n",
      "\u001bcRGQS.TO\n",
      "\u001bcRGRE.TO\n",
      "\u001bcRID.TO\n",
      "\u001bc"
     ]
    },
    {
     "name": "stderr",
     "output_type": "stream",
     "text": [
      "$RID.U.TO: possibly delisted; no timezone found\n"
     ]
    },
    {
     "name": "stdout",
     "output_type": "stream",
     "text": [
      "Error with ticker:  RID.U.TO  -  cannot access local variable 'tbl' where it is not associated with a value\n",
      "\u001bcRIDH.TO\n",
      "\u001bcRIE.TO\n",
      "\u001bcRIEH.TO\n",
      "\u001bcRIG.TO\n",
      "\u001bcRIT.TO\n",
      "\u001bcRLB.TO\n",
      "\u001bcRLD.TO\n",
      "\u001bcRLE.TO\n",
      "\u001bcRMAX.TO\n",
      "\u001bcRMBO.TO\n",
      "\u001bcRPD.TO\n",
      "\u001bc"
     ]
    },
    {
     "name": "stderr",
     "output_type": "stream",
     "text": [
      "$RPD.U.TO: possibly delisted; no timezone found\n"
     ]
    },
    {
     "name": "stdout",
     "output_type": "stream",
     "text": [
      "Error with ticker:  RPD.U.TO  -  cannot access local variable 'tbl' where it is not associated with a value\n",
      "\u001bcRPDH.TO\n",
      "\u001bcRPF.TO\n",
      "\u001bcRPSB.TO\n",
      "\u001bcRQH.TO\n",
      "\u001bcRQI.TO\n",
      "\u001bcRQJ.TO\n",
      "\u001bcRQK.TO\n",
      "\u001bcRQL.TO\n",
      "\u001bcRQN.TO\n",
      "\u001bcRQO.TO\n",
      "\u001bcRQP.TO\n",
      "\u001bcRQQ.TO\n",
      "\u001bcRQR.TO\n",
      "\u001bcRQS.TO\n",
      "\u001bcRUBH.TO\n",
      "\u001bcRUBY.TO\n",
      "\u001bc"
     ]
    },
    {
     "name": "stderr",
     "output_type": "stream",
     "text": [
      "$RUBY.U.T: possibly delisted; no timezone found\n"
     ]
    },
    {
     "name": "stdout",
     "output_type": "stream",
     "text": [
      "Error with ticker:  RUBY.U.T  -  cannot access local variable 'tbl' where it is not associated with a value\n",
      "\u001bcRUD.TO\n",
      "\u001bc"
     ]
    },
    {
     "name": "stderr",
     "output_type": "stream",
     "text": [
      "$RUD.U.TO: possibly delisted; no timezone found\n"
     ]
    },
    {
     "name": "stdout",
     "output_type": "stream",
     "text": [
      "Error with ticker:  RUD.U.TO  -  cannot access local variable 'tbl' where it is not associated with a value\n",
      "\u001bcRUDB.TO\n",
      "\u001bc"
     ]
    },
    {
     "name": "stderr",
     "output_type": "stream",
     "text": [
      "$RUDB.U.T: possibly delisted; no timezone found\n"
     ]
    },
    {
     "name": "stdout",
     "output_type": "stream",
     "text": [
      "Error with ticker:  RUDB.U.T  -  cannot access local variable 'tbl' where it is not associated with a value\n",
      "\u001bcRUDC.TO\n",
      "\u001bc"
     ]
    },
    {
     "name": "stderr",
     "output_type": "stream",
     "text": [
      "$RUDC.U.T: possibly delisted; no timezone found\n"
     ]
    },
    {
     "name": "stdout",
     "output_type": "stream",
     "text": [
      "Error with ticker:  RUDC.U.T  -  cannot access local variable 'tbl' where it is not associated with a value\n",
      "\u001bcRUDH.TO\n",
      "\u001bcRUE.TO\n",
      "\u001bcRUEH.TO\n",
      "\u001bcRUQN.TO\n",
      "\u001bc"
     ]
    },
    {
     "name": "stderr",
     "output_type": "stream",
     "text": [
      "$RUQN.U.T: possibly delisted; no timezone found\n"
     ]
    },
    {
     "name": "stdout",
     "output_type": "stream",
     "text": [
      "Error with ticker:  RUQN.U.T  -  cannot access local variable 'tbl' where it is not associated with a value\n",
      "\u001bcRUQO.TO\n",
      "\u001bc"
     ]
    },
    {
     "name": "stderr",
     "output_type": "stream",
     "text": [
      "$RUQO.U.T: possibly delisted; no timezone found\n"
     ]
    },
    {
     "name": "stdout",
     "output_type": "stream",
     "text": [
      "Error with ticker:  RUQO.U.T  -  cannot access local variable 'tbl' where it is not associated with a value\n",
      "\u001bcRUQP.TO\n",
      "\u001bc"
     ]
    },
    {
     "name": "stderr",
     "output_type": "stream",
     "text": [
      "$RUQP.U.T: possibly delisted; no timezone found\n"
     ]
    },
    {
     "name": "stdout",
     "output_type": "stream",
     "text": [
      "Error with ticker:  RUQP.U.T  -  cannot access local variable 'tbl' where it is not associated with a value\n",
      "\u001bcRUQQ.TO\n",
      "\u001bc"
     ]
    },
    {
     "name": "stderr",
     "output_type": "stream",
     "text": [
      "$RUQQ.U.T: possibly delisted; no timezone found\n"
     ]
    },
    {
     "name": "stdout",
     "output_type": "stream",
     "text": [
      "Error with ticker:  RUQQ.U.T  -  cannot access local variable 'tbl' where it is not associated with a value\n",
      "\u001bcRUQR.TO\n",
      "\u001bc"
     ]
    },
    {
     "name": "stderr",
     "output_type": "stream",
     "text": [
      "$RUQR.U.T: possibly delisted; no timezone found\n"
     ]
    },
    {
     "name": "stdout",
     "output_type": "stream",
     "text": [
      "Error with ticker:  RUQR.U.T  -  cannot access local variable 'tbl' where it is not associated with a value\n",
      "\u001bcRUQS.TO\n",
      "\u001bc"
     ]
    },
    {
     "name": "stderr",
     "output_type": "stream",
     "text": [
      "$RUQS.U.T: possibly delisted; no timezone found\n"
     ]
    },
    {
     "name": "stdout",
     "output_type": "stream",
     "text": [
      "Error with ticker:  RUQS.U.T  -  cannot access local variable 'tbl' where it is not associated with a value\n",
      "\u001bcRUSB.TO\n",
      "\u001bc"
     ]
    },
    {
     "name": "stderr",
     "output_type": "stream",
     "text": [
      "$RUSB.U.T: possibly delisted; no timezone found\n"
     ]
    },
    {
     "name": "stdout",
     "output_type": "stream",
     "text": [
      "Error with ticker:  RUSB.U.T  -  cannot access local variable 'tbl' where it is not associated with a value\n",
      "\u001bcRWC.TO\n",
      "\u001bcRWE.TO\n",
      "\u001bcRWU.TO\n",
      "\u001bcRWW.TO\n",
      "\u001bcRWX.TO\n",
      "\u001bcRXD.TO\n",
      "\u001bc"
     ]
    },
    {
     "name": "stderr",
     "output_type": "stream",
     "text": [
      "$RXD.U.TO: possibly delisted; no timezone found\n"
     ]
    },
    {
     "name": "stdout",
     "output_type": "stream",
     "text": [
      "Error with ticker:  RXD.U.TO  -  cannot access local variable 'tbl' where it is not associated with a value\n",
      "\u001bcRXE.TO\n",
      "\u001bcSCAD.TO\n",
      "\u001bcSFIX.TO\n",
      "\u001bcSHZ.TO\n",
      "\u001bcSID.TO\n",
      "\u001bcSINT.TO\n",
      "\u001bcSKYY.TO\n",
      "\u001bcSMAX.TO\n",
      "\u001bcSPAY.TO\n",
      "\u001bc"
     ]
    },
    {
     "name": "stderr",
     "output_type": "stream",
     "text": [
      "$SPAY.U.T: possibly delisted; no timezone found\n"
     ]
    },
    {
     "name": "stdout",
     "output_type": "stream",
     "text": [
      "Error with ticker:  SPAY.U.T  -  cannot access local variable 'tbl' where it is not associated with a value\n",
      "\u001bcSPLT.TO\n",
      "\u001bcSTPL.TO\n",
      "\u001bcSUSA.TO\n",
      "\u001bcSVR.TO\n",
      "\u001bc"
     ]
    },
    {
     "name": "stderr",
     "output_type": "stream",
     "text": [
      "$SVR.C.TO: possibly delisted; no timezone found\n"
     ]
    },
    {
     "name": "stdout",
     "output_type": "stream",
     "text": [
      "Error with ticker:  SVR.C.TO  -  cannot access local variable 'tbl' where it is not associated with a value\n",
      "\u001bcTBAL.TO\n",
      "\u001bcTBCE.TO\n",
      "\u001bcTBCF.TO\n",
      "\u001bcTBCG.TO\n",
      "\u001bcTBIL.TO\n",
      "\u001bcTBNK.TO\n",
      "\u001bc"
     ]
    },
    {
     "name": "stderr",
     "output_type": "stream",
     "text": [
      "$TBUE.U.T: possibly delisted; no timezone found\n"
     ]
    },
    {
     "name": "stdout",
     "output_type": "stream",
     "text": [
      "Error with ticker:  TBUE.U.T  -  cannot access local variable 'tbl' where it is not associated with a value\n",
      "\u001bc"
     ]
    },
    {
     "name": "stderr",
     "output_type": "stream",
     "text": [
      "$TBUF.U.T: possibly delisted; no timezone found\n"
     ]
    },
    {
     "name": "stdout",
     "output_type": "stream",
     "text": [
      "Error with ticker:  TBUF.U.T  -  cannot access local variable 'tbl' where it is not associated with a value\n",
      "\u001bc"
     ]
    },
    {
     "name": "stderr",
     "output_type": "stream",
     "text": [
      "$TBUG.U.T: possibly delisted; no timezone found\n"
     ]
    },
    {
     "name": "stdout",
     "output_type": "stream",
     "text": [
      "Error with ticker:  TBUG.U.T  -  cannot access local variable 'tbl' where it is not associated with a value\n",
      "\u001bcTCBN.TO\n",
      "\u001bcTCLB.TO\n",
      "\u001bcTCLV.TO\n",
      "\u001bcTCON.TO\n",
      "\u001bcTCSB.TO\n",
      "\u001bcTCSH.TO\n",
      "\u001bcTDB.TO\n",
      "\u001bcTDOC.TO\n",
      "\u001bc"
     ]
    },
    {
     "name": "stderr",
     "output_type": "stream",
     "text": [
      "$TDOC.U.T: possibly delisted; no timezone found\n"
     ]
    },
    {
     "name": "stdout",
     "output_type": "stream",
     "text": [
      "Error with ticker:  TDOC.U.T  -  cannot access local variable 'tbl' where it is not associated with a value\n",
      "\u001bcTEC.TO\n",
      "\u001bc"
     ]
    },
    {
     "name": "stderr",
     "output_type": "stream",
     "text": [
      "$TEC.U.TO: possibly delisted; no timezone found\n"
     ]
    },
    {
     "name": "stdout",
     "output_type": "stream",
     "text": [
      "Error with ticker:  TEC.U.TO  -  cannot access local variable 'tbl' where it is not associated with a value\n",
      "\u001bcTECH.TO\n",
      "\u001bc"
     ]
    },
    {
     "name": "stderr",
     "output_type": "stream",
     "text": [
      "$TECH.B.T: possibly delisted; no timezone found\n"
     ]
    },
    {
     "name": "stdout",
     "output_type": "stream",
     "text": [
      "Error with ticker:  TECH.B.T  -  cannot access local variable 'tbl' where it is not associated with a value\n",
      "\u001bc"
     ]
    },
    {
     "name": "stderr",
     "output_type": "stream",
     "text": [
      "$TECH.U.T: possibly delisted; no timezone found\n"
     ]
    },
    {
     "name": "stdout",
     "output_type": "stream",
     "text": [
      "Error with ticker:  TECH.U.T  -  cannot access local variable 'tbl' where it is not associated with a value\n",
      "\u001bcTECI.TO\n",
      "\u001bcTECX.TO\n",
      "\u001bcTERM.TO\n",
      "\u001bcTGED.TO\n",
      "\u001bc"
     ]
    },
    {
     "name": "stderr",
     "output_type": "stream",
     "text": [
      "$TGED.U.T: possibly delisted; no timezone found\n"
     ]
    },
    {
     "name": "stdout",
     "output_type": "stream",
     "text": [
      "Error with ticker:  TGED.U.T  -  cannot access local variable 'tbl' where it is not associated with a value\n",
      "\u001bcTGFI.TO\n",
      "\u001bcTGGR.TO\n",
      "\u001bcTGRE.TO\n",
      "\u001bcTGRO.TO\n",
      "\u001bcTHE.TO\n",
      "\u001bcTHU.TO\n",
      "\u001bcTILV.TO\n",
      "\u001bcTINF.TO\n",
      "\u001bcTIPS.TO\n",
      "\u001bc"
     ]
    },
    {
     "name": "stderr",
     "output_type": "stream",
     "text": [
      "$TIPS.F.T: possibly delisted; no timezone found\n"
     ]
    },
    {
     "name": "stdout",
     "output_type": "stream",
     "text": [
      "Error with ticker:  TIPS.F.T  -  cannot access local variable 'tbl' where it is not associated with a value\n",
      "\u001bc"
     ]
    },
    {
     "name": "stderr",
     "output_type": "stream",
     "text": [
      "$TIPS.U.T: possibly delisted; no timezone found\n"
     ]
    },
    {
     "name": "stdout",
     "output_type": "stream",
     "text": [
      "Error with ticker:  TIPS.U.T  -  cannot access local variable 'tbl' where it is not associated with a value\n",
      "\u001bcTLF.TO\n",
      "\u001bc"
     ]
    },
    {
     "name": "stderr",
     "output_type": "stream",
     "text": [
      "$TLF.U.TO: possibly delisted; no timezone found\n"
     ]
    },
    {
     "name": "stdout",
     "output_type": "stream",
     "text": [
      "Error with ticker:  TLF.U.TO  -  cannot access local variable 'tbl' where it is not associated with a value\n",
      "\u001bcTLV.TO\n",
      "\u001bcTPAY.TO\n",
      "\u001bcTPE.TO\n",
      "\u001bcTPRF.TO\n",
      "\u001bcTPU.TO\n",
      "\u001bc"
     ]
    },
    {
     "name": "stderr",
     "output_type": "stream",
     "text": [
      "$TPU.U.TO: possibly delisted; no timezone found\n"
     ]
    },
    {
     "name": "stdout",
     "output_type": "stream",
     "text": [
      "Error with ticker:  TPU.U.TO  -  cannot access local variable 'tbl' where it is not associated with a value\n",
      "\u001bcTQCD.TO\n",
      "\u001bcTQGD.TO\n",
      "\u001bcTQGM.TO\n",
      "\u001bcTQSM.TO\n",
      "\u001bcTRVI.TO\n",
      "\u001bcTRVL.TO\n",
      "\u001bc"
     ]
    },
    {
     "name": "stderr",
     "output_type": "stream",
     "text": [
      "$TRVL.U.T: possibly delisted; no timezone found\n"
     ]
    },
    {
     "name": "stdout",
     "output_type": "stream",
     "text": [
      "Error with ticker:  TRVL.U.T  -  cannot access local variable 'tbl' where it is not associated with a value\n",
      "\u001bcTTP.TO\n",
      "\u001bcTTTX.TO\n",
      "\u001bcTUED.TO\n",
      "\u001bc"
     ]
    },
    {
     "name": "stderr",
     "output_type": "stream",
     "text": [
      "$TUED.U.T: possibly delisted; no timezone found\n"
     ]
    },
    {
     "name": "stdout",
     "output_type": "stream",
     "text": [
      "Error with ticker:  TUED.U.T  -  cannot access local variable 'tbl' where it is not associated with a value\n",
      "\u001bcTUEX.TO\n",
      "\u001bcTUHY.TO\n",
      "\u001bcTULB.TO\n",
      "\u001bcTULV.TO\n",
      "\u001bcTUSB.TO\n",
      "\u001bc"
     ]
    },
    {
     "name": "stderr",
     "output_type": "stream",
     "text": [
      "$TUSB.U.T: possibly delisted; no timezone found\n"
     ]
    },
    {
     "name": "stdout",
     "output_type": "stream",
     "text": [
      "Error with ticker:  TUSB.U.T  -  cannot access local variable 'tbl' where it is not associated with a value\n",
      "\u001bcTXF.TO\n",
      "\u001bc"
     ]
    },
    {
     "name": "stderr",
     "output_type": "stream",
     "text": [
      "$TXF.B.TO: possibly delisted; no timezone found\n"
     ]
    },
    {
     "name": "stdout",
     "output_type": "stream",
     "text": [
      "Error with ticker:  TXF.B.TO  -  cannot access local variable 'tbl' where it is not associated with a value\n",
      "\u001bc"
     ]
    },
    {
     "name": "stderr",
     "output_type": "stream",
     "text": [
      "$TXF.U.TO: possibly delisted; no timezone found\n"
     ]
    },
    {
     "name": "stdout",
     "output_type": "stream",
     "text": [
      "Error with ticker:  TXF.U.TO  -  cannot access local variable 'tbl' where it is not associated with a value\n",
      "\u001bc"
     ]
    },
    {
     "name": "stderr",
     "output_type": "stream",
     "text": [
      "$UBIL.U.T: possibly delisted; no timezone found\n"
     ]
    },
    {
     "name": "stdout",
     "output_type": "stream",
     "text": [
      "Error with ticker:  UBIL.U.T  -  cannot access local variable 'tbl' where it is not associated with a value\n",
      "\u001bc"
     ]
    },
    {
     "name": "stderr",
     "output_type": "stream",
     "text": [
      "$UCSH.U.T: possibly delisted; no timezone found\n"
     ]
    },
    {
     "name": "stdout",
     "output_type": "stream",
     "text": [
      "Error with ticker:  UCSH.U.T  -  cannot access local variable 'tbl' where it is not associated with a value\n",
      "\u001bcUDEF.TO\n",
      "\u001bc"
     ]
    },
    {
     "name": "stderr",
     "output_type": "stream",
     "text": [
      "$UDEF.B.T: possibly delisted; no timezone found\n"
     ]
    },
    {
     "name": "stdout",
     "output_type": "stream",
     "text": [
      "Error with ticker:  UDEF.B.T  -  cannot access local variable 'tbl' where it is not associated with a value\n",
      "\u001bc"
     ]
    },
    {
     "name": "stderr",
     "output_type": "stream",
     "text": [
      "$UDEF.U.T: possibly delisted; no timezone found\n"
     ]
    },
    {
     "name": "stdout",
     "output_type": "stream",
     "text": [
      "Error with ticker:  UDEF.U.T  -  cannot access local variable 'tbl' where it is not associated with a value\n",
      "\u001bcUDIV.TO\n",
      "\u001bc"
     ]
    },
    {
     "name": "stderr",
     "output_type": "stream",
     "text": [
      "$UDIV.B.T: possibly delisted; no timezone found\n"
     ]
    },
    {
     "name": "stdout",
     "output_type": "stream",
     "text": [
      "Error with ticker:  UDIV.B.T  -  cannot access local variable 'tbl' where it is not associated with a value\n",
      "\u001bc"
     ]
    },
    {
     "name": "stderr",
     "output_type": "stream",
     "text": [
      "$UDIV.U.T: possibly delisted; no timezone found\n"
     ]
    },
    {
     "name": "stdout",
     "output_type": "stream",
     "text": [
      "Error with ticker:  UDIV.U.T  -  cannot access local variable 'tbl' where it is not associated with a value\n",
      "\u001bc"
     ]
    },
    {
     "name": "stderr",
     "output_type": "stream",
     "text": [
      "$ULV.C.TO: possibly delisted; no timezone found\n"
     ]
    },
    {
     "name": "stdout",
     "output_type": "stream",
     "text": [
      "Error with ticker:  ULV.C.TO  -  cannot access local variable 'tbl' where it is not associated with a value\n",
      "\u001bc"
     ]
    },
    {
     "name": "stderr",
     "output_type": "stream",
     "text": [
      "$ULV.F.TO: possibly delisted; no timezone found\n"
     ]
    },
    {
     "name": "stdout",
     "output_type": "stream",
     "text": [
      "Error with ticker:  ULV.F.TO  -  cannot access local variable 'tbl' where it is not associated with a value\n",
      "\u001bc"
     ]
    },
    {
     "name": "stderr",
     "output_type": "stream",
     "text": [
      "$ULV.U.TO: possibly delisted; no timezone found\n"
     ]
    },
    {
     "name": "stdout",
     "output_type": "stream",
     "text": [
      "Error with ticker:  ULV.U.TO  -  cannot access local variable 'tbl' where it is not associated with a value\n",
      "\u001bcUMAX.TO\n",
      "\u001bcUMI.TO\n",
      "\u001bc"
     ]
    },
    {
     "name": "stderr",
     "output_type": "stream",
     "text": [
      "$UMI.B.TO: possibly delisted; no timezone found\n"
     ]
    },
    {
     "name": "stdout",
     "output_type": "stream",
     "text": [
      "Error with ticker:  UMI.B.TO  -  cannot access local variable 'tbl' where it is not associated with a value\n",
      "\u001bc"
     ]
    },
    {
     "name": "stderr",
     "output_type": "stream",
     "text": [
      "$UMNY.U.T: possibly delisted; no timezone found\n"
     ]
    },
    {
     "name": "stdout",
     "output_type": "stream",
     "text": [
      "Error with ticker:  UMNY.U.T  -  cannot access local variable 'tbl' where it is not associated with a value\n",
      "\u001bcUSB.TO\n",
      "\u001bcUSCC.TO\n",
      "\u001bc"
     ]
    },
    {
     "name": "stderr",
     "output_type": "stream",
     "text": [
      "$USCC.U.T: possibly delisted; no timezone found\n"
     ]
    },
    {
     "name": "stdout",
     "output_type": "stream",
     "text": [
      "Error with ticker:  USCC.U.T  -  cannot access local variable 'tbl' where it is not associated with a value\n",
      "\u001bcUSCL.TO\n",
      "\u001bcUSSL.TO\n",
      "\u001bcUSSX.TO\n",
      "\u001bc"
     ]
    },
    {
     "name": "stderr",
     "output_type": "stream",
     "text": [
      "$USSX.U.T: possibly delisted; no timezone found\n"
     ]
    },
    {
     "name": "stdout",
     "output_type": "stream",
     "text": [
      "Error with ticker:  USSX.U.T  -  cannot access local variable 'tbl' where it is not associated with a value\n",
      "\u001bcUTIL.TO\n",
      "\u001bcUXM.TO\n",
      "\u001bcVA.TO\n",
      "\u001bcVAB.TO\n",
      "\u001bcVAH.TO\n",
      "\u001bcVBAL.TO\n",
      "\u001bcVBG.TO\n",
      "\u001bcVBU.TO\n",
      "\u001bcVCB.TO\n",
      "\u001bcVCE.TO\n",
      "\u001bcVCIP.TO\n",
      "\u001bcVCN.TO\n",
      "\u001bcVCNS.TO\n",
      "\u001bcVDU.TO\n",
      "\u001bcVDY.TO\n",
      "\u001bcVE.TO\n",
      "\u001bcVEE.TO\n",
      "\u001bcVEF.TO\n",
      "\u001bcVEH.TO\n",
      "\u001bcVEQT.TO\n",
      "\u001bcVFV.TO\n",
      "\u001bcVGAB.TO\n",
      "\u001bcVGG.TO\n",
      "\u001bcVGH.TO\n",
      "\u001bcVGRO.TO\n",
      "\u001bcVGV.TO\n",
      "\u001bcVI.TO\n",
      "\u001bcVIDY.TO\n",
      "\u001bcVIU.TO\n",
      "\u001bcVLB.TO\n",
      "\u001bcVLQ.TO\n",
      "\u001bcVMO.TO\n",
      "\u001bcVRE.TO\n",
      "\u001bcVRIF.TO\n",
      "\u001bcVSB.TO\n",
      "\u001bcVSC.TO\n",
      "\u001bcVSG.TO\n",
      "\u001bcVSP.TO\n",
      "\u001bcVUN.TO\n",
      "\u001bcVUS.TO\n",
      "\u001bcVVL.TO\n",
      "\u001bcVVO.TO\n",
      "\u001bcVVSG.TO\n",
      "\u001bcVXC.TO\n",
      "\u001bcVXM.TO\n",
      "\u001bc"
     ]
    },
    {
     "name": "stderr",
     "output_type": "stream",
     "text": [
      "$VXM.B.TO: possibly delisted; no timezone found\n"
     ]
    },
    {
     "name": "stdout",
     "output_type": "stream",
     "text": [
      "Error with ticker:  VXM.B.TO  -  cannot access local variable 'tbl' where it is not associated with a value\n",
      "\u001bcWSRD.TO\n",
      "\u001bcWSRI.TO\n",
      "\u001bcWXM.TO\n",
      "\u001bcXAD.TO\n",
      "\u001bcXAGG.TO\n",
      "\u001bc"
     ]
    },
    {
     "name": "stderr",
     "output_type": "stream",
     "text": [
      "$XAGG.U.T: possibly delisted; no timezone found\n"
     ]
    },
    {
     "name": "stdout",
     "output_type": "stream",
     "text": [
      "Error with ticker:  XAGG.U.T  -  cannot access local variable 'tbl' where it is not associated with a value\n",
      "\u001bcXAGH.TO\n",
      "\u001bcXAW.TO\n",
      "\u001bc"
     ]
    },
    {
     "name": "stderr",
     "output_type": "stream",
     "text": [
      "$XAW.U.TO: possibly delisted; no timezone found\n"
     ]
    },
    {
     "name": "stdout",
     "output_type": "stream",
     "text": [
      "Error with ticker:  XAW.U.TO  -  cannot access local variable 'tbl' where it is not associated with a value\n",
      "\u001bcXBAL.TO\n",
      "\u001bcXBB.TO\n",
      "\u001bcXBM.TO\n",
      "\u001bcXCB.TO\n",
      "\u001bcXCBG.TO\n",
      "\u001bcXCBU.TO\n",
      "\u001bc"
     ]
    },
    {
     "name": "stderr",
     "output_type": "stream",
     "text": [
      "$XCBU.U.T: possibly delisted; no timezone found\n"
     ]
    },
    {
     "name": "stdout",
     "output_type": "stream",
     "text": [
      "Error with ticker:  XCBU.U.T  -  cannot access local variable 'tbl' where it is not associated with a value\n",
      "\u001bcXCD.TO\n",
      "\u001bcXCG.TO\n",
      "\u001bcXCH.TO\n",
      "\u001bcXCHP.TO\n",
      "\u001bcXCLN.TO\n",
      "\u001bcXCNS.TO\n",
      "\u001bcXCS.TO\n",
      "\u001bcXCSR.TO\n",
      "\u001bcXCV.TO\n",
      "\u001bcXDG.TO\n",
      "\u001bc"
     ]
    },
    {
     "name": "stderr",
     "output_type": "stream",
     "text": [
      "$XDG.U.TO: possibly delisted; no timezone found\n"
     ]
    },
    {
     "name": "stdout",
     "output_type": "stream",
     "text": [
      "Error with ticker:  XDG.U.TO  -  cannot access local variable 'tbl' where it is not associated with a value\n",
      "\u001bcXDGH.TO\n",
      "\u001bcXDIV.TO\n",
      "\u001bcXDNA.TO\n",
      "\u001bcXDRV.TO\n",
      "\u001bcXDSR.TO\n",
      "\u001bcXDU.TO\n",
      "\u001bc"
     ]
    },
    {
     "name": "stderr",
     "output_type": "stream",
     "text": [
      "$XDU.U.TO: possibly delisted; no timezone found\n"
     ]
    },
    {
     "name": "stdout",
     "output_type": "stream",
     "text": [
      "Error with ticker:  XDU.U.TO  -  cannot access local variable 'tbl' where it is not associated with a value\n",
      "\u001bcXDUH.TO\n",
      "\u001bcXDV.TO\n",
      "\u001bcXEB.TO\n",
      "\u001bcXEC.TO\n",
      "\u001bc"
     ]
    },
    {
     "name": "stderr",
     "output_type": "stream",
     "text": [
      "$XEC.U.TO: possibly delisted; no timezone found\n"
     ]
    },
    {
     "name": "stdout",
     "output_type": "stream",
     "text": [
      "Error with ticker:  XEC.U.TO  -  cannot access local variable 'tbl' where it is not associated with a value\n",
      "\u001bcXEF.TO\n",
      "\u001bc"
     ]
    },
    {
     "name": "stderr",
     "output_type": "stream",
     "text": [
      "$XEF.U.TO: possibly delisted; no timezone found\n"
     ]
    },
    {
     "name": "stdout",
     "output_type": "stream",
     "text": [
      "Error with ticker:  XEF.U.TO  -  cannot access local variable 'tbl' where it is not associated with a value\n",
      "\u001bcXEG.TO\n",
      "\u001bcXEH.TO\n",
      "\u001bcXEI.TO\n",
      "\u001bcXEM.TO\n",
      "\u001bcXEMC.TO\n",
      "\u001bcXEN.TO\n",
      "\u001bcXEQT.TO\n",
      "\u001bcXESG.TO\n",
      "\u001bcXETM.TO\n",
      "\u001bcXEU.TO\n",
      "\u001bcXEXP.TO\n",
      "\u001bcXFA.TO\n",
      "\u001bcXFC.TO\n",
      "\u001bcXFF.TO\n",
      "\u001bcXFH.TO\n",
      "\u001bcXFI.TO\n",
      "\u001bcXFLB.TO\n",
      "\u001bcXFLI.TO\n",
      "\u001bc"
     ]
    },
    {
     "name": "stderr",
     "output_type": "stream",
     "text": [
      "$XFLI.U.T: possibly delisted; no timezone found\n"
     ]
    },
    {
     "name": "stdout",
     "output_type": "stream",
     "text": [
      "Error with ticker:  XFLI.U.T  -  cannot access local variable 'tbl' where it is not associated with a value\n",
      "\u001bcXFLX.TO\n",
      "\u001bcXFN.TO\n",
      "\u001bcXFR.TO\n",
      "\u001bcXFS.TO\n",
      "\u001bcXGB.TO\n",
      "\u001bcXGD.TO\n",
      "\u001bcXGI.TO\n",
      "\u001bcXGRO.TO\n",
      "\u001bcXHAK.TO\n",
      "\u001bcXHB.TO\n",
      "\u001bcXHC.TO\n",
      "\u001bcXHD.TO\n",
      "\u001bcXHU.TO\n",
      "\u001bcXHY.TO\n",
      "\u001bcXIC.TO\n",
      "\u001bcXID.TO\n",
      "\u001bcXIG.TO\n",
      "\u001bcXIGS.TO\n",
      "\u001bcXIN.TO\n",
      "\u001bcXINC.TO\n",
      "\u001bcXIT.TO\n",
      "\u001bcXIU.TO\n",
      "\u001bcXLB.TO\n",
      "\u001bcXLVE.TO\n",
      "\u001bcXMA.TO\n",
      "\u001bcXMC.TO\n",
      "\u001bc"
     ]
    },
    {
     "name": "stderr",
     "output_type": "stream",
     "text": [
      "$XMC.U.TO: possibly delisted; no timezone found\n"
     ]
    },
    {
     "name": "stdout",
     "output_type": "stream",
     "text": [
      "Error with ticker:  XMC.U.TO  -  cannot access local variable 'tbl' where it is not associated with a value\n",
      "\u001bcXMD.TO\n",
      "\u001bcXMH.TO\n",
      "\u001bcXMI.TO\n",
      "\u001bcXML.TO\n",
      "\u001bcXMM.TO\n",
      "\u001bcXMS.TO\n",
      "\u001bcXMTM.TO\n",
      "\u001bcXMU.TO\n",
      "\u001bc"
     ]
    },
    {
     "name": "stderr",
     "output_type": "stream",
     "text": [
      "$XMU.U.TO: possibly delisted; no timezone found\n"
     ]
    },
    {
     "name": "stdout",
     "output_type": "stream",
     "text": [
      "Error with ticker:  XMU.U.TO  -  cannot access local variable 'tbl' where it is not associated with a value\n",
      "\u001bcXMV.TO\n",
      "\u001bcXMW.TO\n",
      "\u001bcXMY.TO\n",
      "\u001bcXPF.TO\n",
      "\u001bcXQB.TO\n",
      "\u001bcXQLT.TO\n",
      "\u001bcXQQ.TO\n",
      "\u001bcXQQU.TO\n",
      "\u001bc"
     ]
    },
    {
     "name": "stderr",
     "output_type": "stream",
     "text": [
      "$XQQU.U.T: possibly delisted; no timezone found\n"
     ]
    },
    {
     "name": "stdout",
     "output_type": "stream",
     "text": [
      "Error with ticker:  XQQU.U.T  -  cannot access local variable 'tbl' where it is not associated with a value\n",
      "\u001bcXRB.TO\n",
      "\u001bcXRE.TO\n",
      "\u001bcXSAB.TO\n",
      "\u001bcXSB.TO\n",
      "\u001bcXSC.TO\n",
      "\u001bcXSE.TO\n",
      "\u001bcXSEA.TO\n",
      "\u001bcXSEM.TO\n",
      "\u001bcXSH.TO\n",
      "\u001bcXSHG.TO\n",
      "\u001bcXSHU.TO\n",
      "\u001bc"
     ]
    },
    {
     "name": "stderr",
     "output_type": "stream",
     "text": [
      "$XSHU.U.T: possibly delisted; no timezone found\n"
     ]
    },
    {
     "name": "stdout",
     "output_type": "stream",
     "text": [
      "Error with ticker:  XSHU.U.T  -  cannot access local variable 'tbl' where it is not associated with a value\n",
      "\u001bcXSI.TO\n",
      "\u001bcXSMC.TO\n",
      "\u001bcXSMH.TO\n",
      "\u001bcXSP.TO\n",
      "\u001bcXSPC.TO\n",
      "\u001bcXSQ.TO\n",
      "\u001bcXST.TO\n",
      "\u001bcXSTB.TO\n",
      "\u001bcXSTH.TO\n",
      "\u001bcXSTP.TO\n",
      "\u001bc"
     ]
    },
    {
     "name": "stderr",
     "output_type": "stream",
     "text": [
      "$XSTP.U.T: possibly delisted; no timezone found\n"
     ]
    },
    {
     "name": "stdout",
     "output_type": "stream",
     "text": [
      "Error with ticker:  XSTP.U.T  -  cannot access local variable 'tbl' where it is not associated with a value\n",
      "\u001bcXSU.TO\n",
      "\u001bcXSUS.TO\n",
      "\u001bcXTLH.TO\n",
      "\u001bcXTLT.TO\n",
      "\u001bc"
     ]
    },
    {
     "name": "stderr",
     "output_type": "stream",
     "text": [
      "$XTLT.U.T: possibly delisted; no timezone found\n"
     ]
    },
    {
     "name": "stdout",
     "output_type": "stream",
     "text": [
      "Error with ticker:  XTLT.U.T  -  cannot access local variable 'tbl' where it is not associated with a value\n",
      "\u001bcXTR.TO\n",
      "\u001bcXUH.TO\n",
      "\u001bcXUS.TO\n",
      "\u001bc"
     ]
    },
    {
     "name": "stderr",
     "output_type": "stream",
     "text": [
      "$XUS.U.TO: possibly delisted; no timezone found\n"
     ]
    },
    {
     "name": "stdout",
     "output_type": "stream",
     "text": [
      "Error with ticker:  XUS.U.TO  -  cannot access local variable 'tbl' where it is not associated with a value\n",
      "\u001bcXUSC.TO\n",
      "\u001bc"
     ]
    },
    {
     "name": "stderr",
     "output_type": "stream",
     "text": [
      "$XUSC.U.T: possibly delisted; no timezone found\n"
     ]
    },
    {
     "name": "stdout",
     "output_type": "stream",
     "text": [
      "Error with ticker:  XUSC.U.T  -  cannot access local variable 'tbl' where it is not associated with a value\n",
      "\u001bcXUSF.TO\n",
      "\u001bcXUSR.TO\n",
      "\u001bcXUT.TO\n",
      "\u001bcXUU.TO\n",
      "\u001bc"
     ]
    },
    {
     "name": "stderr",
     "output_type": "stream",
     "text": [
      "$XUU.U.TO: possibly delisted; no timezone found\n"
     ]
    },
    {
     "name": "stdout",
     "output_type": "stream",
     "text": [
      "Error with ticker:  XUU.U.TO  -  cannot access local variable 'tbl' where it is not associated with a value\n",
      "\u001bcXVLU.TO\n",
      "\u001bcXWD.TO\n",
      "\u001bcXXM.TO\n",
      "\u001bcYXM.TO\n",
      "\u001bcZAG.TO\n",
      "\u001bcZBAL.TO\n",
      "\u001bc"
     ]
    },
    {
     "name": "stderr",
     "output_type": "stream",
     "text": [
      "$ZBAL.T.T: possibly delisted; no timezone found\n"
     ]
    },
    {
     "name": "stdout",
     "output_type": "stream",
     "text": [
      "Error with ticker:  ZBAL.T.T  -  cannot access local variable 'tbl' where it is not associated with a value\n",
      "\u001bcZBBB.TO\n",
      "\u001bcZBI.TO\n",
      "\u001bcZBK.TO\n",
      "\u001bcZCB.TO\n",
      "\u001bcZCDB.TO\n",
      "\u001bcZCH.TO\n",
      "\u001bcZCLN.TO\n",
      "\u001bcZCM.TO\n",
      "\u001bcZCN.TO\n",
      "\u001bcZCON.TO\n",
      "\u001bcZCS.TO\n",
      "\u001bc"
     ]
    },
    {
     "name": "stderr",
     "output_type": "stream",
     "text": [
      "$ZCS.L.TO: possibly delisted; no timezone found\n"
     ]
    },
    {
     "name": "stdout",
     "output_type": "stream",
     "text": [
      "Error with ticker:  ZCS.L.TO  -  cannot access local variable 'tbl' where it is not associated with a value\n",
      "\u001bcZDB.TO\n",
      "\u001bcZDH.TO\n",
      "\u001bcZDI.TO\n",
      "\u001bcZDJ.TO\n",
      "\u001bcZDM.TO\n",
      "\u001bcZDV.TO\n",
      "\u001bcZDY.TO\n",
      "\u001bc"
     ]
    },
    {
     "name": "stderr",
     "output_type": "stream",
     "text": [
      "$ZDY.U.TO: possibly delisted; no timezone found\n"
     ]
    },
    {
     "name": "stdout",
     "output_type": "stream",
     "text": [
      "Error with ticker:  ZDY.U.TO  -  cannot access local variable 'tbl' where it is not associated with a value\n",
      "\u001bcZEA.TO\n",
      "\u001bcZEAT.TO\n",
      "\u001bcZEB.TO\n",
      "\u001bcZEF.TO\n",
      "\u001bcZEM.TO\n",
      "\u001bcZEO.TO\n",
      "\u001bcZEQ.TO\n",
      "\u001bcZEQT.TO\n",
      "\u001bcZESG.TO\n",
      "\u001bcZFH.TO\n",
      "\u001bcZFL.TO\n",
      "\u001bcZFM.TO\n",
      "\u001bcZFS.TO\n",
      "\u001bc"
     ]
    },
    {
     "name": "stderr",
     "output_type": "stream",
     "text": [
      "$ZFS.L.TO: possibly delisted; no timezone found\n"
     ]
    },
    {
     "name": "stdout",
     "output_type": "stream",
     "text": [
      "Error with ticker:  ZFS.L.TO  -  cannot access local variable 'tbl' where it is not associated with a value\n",
      "\u001bcZGB.TO\n",
      "\u001bcZGD.TO\n",
      "\u001bcZGI.TO\n",
      "\u001bcZGLD.TO\n",
      "\u001bc"
     ]
    },
    {
     "name": "stderr",
     "output_type": "stream",
     "text": [
      "$ZGLD.U.T: possibly delisted; no timezone found\n"
     ]
    },
    {
     "name": "stdout",
     "output_type": "stream",
     "text": [
      "Error with ticker:  ZGLD.U.T  -  cannot access local variable 'tbl' where it is not associated with a value\n",
      "\u001bcZGLH.TO\n",
      "\u001bcZGQ.TO\n",
      "\u001bcZGRN.TO\n",
      "\u001bcZGRO.TO\n",
      "\u001bc"
     ]
    },
    {
     "name": "stderr",
     "output_type": "stream",
     "text": [
      "$ZGRO.T.T: possibly delisted; no timezone found\n"
     ]
    },
    {
     "name": "stdout",
     "output_type": "stream",
     "text": [
      "Error with ticker:  ZGRO.T.T  -  cannot access local variable 'tbl' where it is not associated with a value\n",
      "\u001bcZHP.TO\n",
      "\u001bcZHU.TO\n",
      "\u001bcZHY.TO\n",
      "\u001bcZIC.TO\n",
      "\u001bc"
     ]
    },
    {
     "name": "stderr",
     "output_type": "stream",
     "text": [
      "$ZIC.U.TO: possibly delisted; no timezone found\n"
     ]
    },
    {
     "name": "stdout",
     "output_type": "stream",
     "text": [
      "Error with ticker:  ZIC.U.TO  -  cannot access local variable 'tbl' where it is not associated with a value\n",
      "\u001bcZID.TO\n",
      "\u001bcZIN.TO\n",
      "\u001bcZIU.TO\n",
      "\u001bcZJG.TO\n",
      "\u001bcZJK.TO\n",
      "\u001bc"
     ]
    },
    {
     "name": "stderr",
     "output_type": "stream",
     "text": [
      "$ZJK.U.TO: possibly delisted; no timezone found\n"
     ]
    },
    {
     "name": "stdout",
     "output_type": "stream",
     "text": [
      "Error with ticker:  ZJK.U.TO  -  cannot access local variable 'tbl' where it is not associated with a value\n",
      "\u001bcZJN.TO\n",
      "\u001bcZJO.TO\n",
      "\u001bcZJPN.TO\n",
      "\u001bc"
     ]
    },
    {
     "name": "stderr",
     "output_type": "stream",
     "text": [
      "$ZJPN.F.T: possibly delisted; no timezone found\n"
     ]
    },
    {
     "name": "stdout",
     "output_type": "stream",
     "text": [
      "Error with ticker:  ZJPN.F.T  -  cannot access local variable 'tbl' where it is not associated with a value\n",
      "\u001bcZLB.TO\n",
      "\u001bcZLC.TO\n",
      "\u001bcZLD.TO\n",
      "\u001bcZLE.TO\n",
      "\u001bcZLH.TO\n",
      "\u001bcZLI.TO\n",
      "\u001bcZLSC.TO\n",
      "\u001bcZLSU.TO\n",
      "\u001bcZLU.TO\n",
      "\u001bc"
     ]
    },
    {
     "name": "stderr",
     "output_type": "stream",
     "text": [
      "$ZLU.U.TO: possibly delisted; no timezone found\n"
     ]
    },
    {
     "name": "stdout",
     "output_type": "stream",
     "text": [
      "Error with ticker:  ZLU.U.TO  -  cannot access local variable 'tbl' where it is not associated with a value\n",
      "\u001bcZMBS.TO\n",
      "\u001bcZMI.TO\n",
      "\u001bc"
     ]
    },
    {
     "name": "stderr",
     "output_type": "stream",
     "text": [
      "$ZMI.U.TO: possibly delisted; no timezone found\n"
     ]
    },
    {
     "name": "stdout",
     "output_type": "stream",
     "text": [
      "Error with ticker:  ZMI.U.TO  -  cannot access local variable 'tbl' where it is not associated with a value\n",
      "\u001bcZMID.TO\n",
      "\u001bc"
     ]
    },
    {
     "name": "stderr",
     "output_type": "stream",
     "text": [
      "$ZMID.F.T: possibly delisted; no timezone found\n"
     ]
    },
    {
     "name": "stdout",
     "output_type": "stream",
     "text": [
      "Error with ticker:  ZMID.F.T  -  cannot access local variable 'tbl' where it is not associated with a value\n",
      "\u001bc"
     ]
    },
    {
     "name": "stderr",
     "output_type": "stream",
     "text": [
      "$ZMID.U.T: possibly delisted; no timezone found\n"
     ]
    },
    {
     "name": "stdout",
     "output_type": "stream",
     "text": [
      "Error with ticker:  ZMID.U.T  -  cannot access local variable 'tbl' where it is not associated with a value\n",
      "\u001bcZMP.TO\n",
      "\u001bcZMT.TO\n",
      "\u001bcZMU.TO\n",
      "\u001bcZNQ.TO\n",
      "\u001bc"
     ]
    },
    {
     "name": "stderr",
     "output_type": "stream",
     "text": [
      "$ZNQ.U.TO: possibly delisted; no timezone found\n"
     ]
    },
    {
     "name": "stdout",
     "output_type": "stream",
     "text": [
      "Error with ticker:  ZNQ.U.TO  -  cannot access local variable 'tbl' where it is not associated with a value\n",
      "\u001bcZPAY.TO\n",
      "\u001bc"
     ]
    },
    {
     "name": "stderr",
     "output_type": "stream",
     "text": [
      "$ZPAY.F.T: possibly delisted; no timezone found\n"
     ]
    },
    {
     "name": "stdout",
     "output_type": "stream",
     "text": [
      "Error with ticker:  ZPAY.F.T  -  cannot access local variable 'tbl' where it is not associated with a value\n",
      "\u001bc"
     ]
    },
    {
     "name": "stderr",
     "output_type": "stream",
     "text": [
      "$ZPAY.U.T: possibly delisted; no timezone found\n"
     ]
    },
    {
     "name": "stdout",
     "output_type": "stream",
     "text": [
      "Error with ticker:  ZPAY.U.T  -  cannot access local variable 'tbl' where it is not associated with a value\n",
      "\u001bcZPH.TO\n",
      "\u001bcZPL.TO\n",
      "\u001bcZPR.TO\n",
      "\u001bc"
     ]
    },
    {
     "name": "stderr",
     "output_type": "stream",
     "text": [
      "$ZPR.U.TO: possibly delisted; no timezone found\n"
     ]
    },
    {
     "name": "stdout",
     "output_type": "stream",
     "text": [
      "Error with ticker:  ZPR.U.TO  -  cannot access local variable 'tbl' where it is not associated with a value\n",
      "\u001bcZPS.TO\n",
      "\u001bc"
     ]
    },
    {
     "name": "stderr",
     "output_type": "stream",
     "text": [
      "$ZPS.L.TO: possibly delisted; no timezone found\n"
     ]
    },
    {
     "name": "stdout",
     "output_type": "stream",
     "text": [
      "Error with ticker:  ZPS.L.TO  -  cannot access local variable 'tbl' where it is not associated with a value\n",
      "\u001bcZPW.TO\n",
      "\u001bc"
     ]
    },
    {
     "name": "stderr",
     "output_type": "stream",
     "text": [
      "$ZPW.U.TO: possibly delisted; no timezone found\n"
     ]
    },
    {
     "name": "stdout",
     "output_type": "stream",
     "text": [
      "Error with ticker:  ZPW.U.TO  -  cannot access local variable 'tbl' where it is not associated with a value\n",
      "\u001bcZQB.TO\n",
      "\u001bcZQQ.TO\n",
      "\u001bcZRE.TO\n",
      "\u001bcZRR.TO\n",
      "\u001bcZSB.TO\n",
      "\u001bcZSDB.TO\n",
      "\u001bcZSML.TO\n",
      "\u001bc"
     ]
    },
    {
     "name": "stderr",
     "output_type": "stream",
     "text": [
      "$ZSML.F.T: possibly delisted; no timezone found\n"
     ]
    },
    {
     "name": "stdout",
     "output_type": "stream",
     "text": [
      "Error with ticker:  ZSML.F.T  -  cannot access local variable 'tbl' where it is not associated with a value\n",
      "\u001bc"
     ]
    },
    {
     "name": "stderr",
     "output_type": "stream",
     "text": [
      "$ZSML.U.T: possibly delisted; no timezone found\n"
     ]
    },
    {
     "name": "stdout",
     "output_type": "stream",
     "text": [
      "Error with ticker:  ZSML.U.T  -  cannot access local variable 'tbl' where it is not associated with a value\n",
      "\u001bcZSP.TO\n",
      "\u001bc"
     ]
    },
    {
     "name": "stderr",
     "output_type": "stream",
     "text": [
      "$ZSP.U.TO: possibly delisted; no timezone found\n"
     ]
    },
    {
     "name": "stdout",
     "output_type": "stream",
     "text": [
      "Error with ticker:  ZSP.U.TO  -  cannot access local variable 'tbl' where it is not associated with a value\n",
      "\u001bcZST.TO\n",
      "\u001bc"
     ]
    },
    {
     "name": "stderr",
     "output_type": "stream",
     "text": [
      "$ZST.L.TO: possibly delisted; no timezone found\n"
     ]
    },
    {
     "name": "stdout",
     "output_type": "stream",
     "text": [
      "Error with ticker:  ZST.L.TO  -  cannot access local variable 'tbl' where it is not associated with a value\n",
      "\u001bcZSU.TO\n",
      "\u001bcZTIP.TO\n",
      "\u001bc"
     ]
    },
    {
     "name": "stderr",
     "output_type": "stream",
     "text": [
      "$ZTIP.F.T: possibly delisted; no timezone found\n"
     ]
    },
    {
     "name": "stdout",
     "output_type": "stream",
     "text": [
      "Error with ticker:  ZTIP.F.T  -  cannot access local variable 'tbl' where it is not associated with a value\n",
      "\u001bc"
     ]
    },
    {
     "name": "stderr",
     "output_type": "stream",
     "text": [
      "$ZTIP.U.T: possibly delisted; no timezone found\n"
     ]
    },
    {
     "name": "stdout",
     "output_type": "stream",
     "text": [
      "Error with ticker:  ZTIP.U.T  -  cannot access local variable 'tbl' where it is not associated with a value\n",
      "\u001bcZUAG.TO\n",
      "\u001bc"
     ]
    },
    {
     "name": "stderr",
     "output_type": "stream",
     "text": [
      "$ZUAG.F.T: possibly delisted; no timezone found\n"
     ]
    },
    {
     "name": "stdout",
     "output_type": "stream",
     "text": [
      "Error with ticker:  ZUAG.F.T  -  cannot access local variable 'tbl' where it is not associated with a value\n",
      "\u001bc"
     ]
    },
    {
     "name": "stderr",
     "output_type": "stream",
     "text": [
      "$ZUAG.U.T: possibly delisted; no timezone found\n"
     ]
    },
    {
     "name": "stdout",
     "output_type": "stream",
     "text": [
      "Error with ticker:  ZUAG.U.T  -  cannot access local variable 'tbl' where it is not associated with a value\n",
      "\u001bcZUB.TO\n",
      "\u001bcZUCM.TO\n",
      "\u001bc"
     ]
    },
    {
     "name": "stderr",
     "output_type": "stream",
     "text": [
      "$ZUCM.U.T: possibly delisted; no timezone found\n"
     ]
    },
    {
     "name": "stdout",
     "output_type": "stream",
     "text": [
      "Error with ticker:  ZUCM.U.T  -  cannot access local variable 'tbl' where it is not associated with a value\n",
      "\u001bcZUD.TO\n",
      "\u001bcZUE.TO\n",
      "\u001bcZUH.TO\n",
      "\u001bcZUP.TO\n",
      "\u001bc"
     ]
    },
    {
     "name": "stderr",
     "output_type": "stream",
     "text": [
      "$ZUP.U.TO: possibly delisted; no timezone found\n"
     ]
    },
    {
     "name": "stdout",
     "output_type": "stream",
     "text": [
      "Error with ticker:  ZUP.U.TO  -  cannot access local variable 'tbl' where it is not associated with a value\n",
      "\u001bcZUQ.TO\n",
      "\u001bc"
     ]
    },
    {
     "name": "stderr",
     "output_type": "stream",
     "text": [
      "$ZUQ.F.TO: possibly delisted; no timezone found\n"
     ]
    },
    {
     "name": "stdout",
     "output_type": "stream",
     "text": [
      "Error with ticker:  ZUQ.F.TO  -  cannot access local variable 'tbl' where it is not associated with a value\n",
      "\u001bc"
     ]
    },
    {
     "name": "stderr",
     "output_type": "stream",
     "text": [
      "$ZUQ.U.TO: possibly delisted; no timezone found\n"
     ]
    },
    {
     "name": "stdout",
     "output_type": "stream",
     "text": [
      "Error with ticker:  ZUQ.U.TO  -  cannot access local variable 'tbl' where it is not associated with a value\n",
      "\u001bc"
     ]
    },
    {
     "name": "stderr",
     "output_type": "stream",
     "text": [
      "$ZUS.U.TO: possibly delisted; no timezone found\n"
     ]
    },
    {
     "name": "stdout",
     "output_type": "stream",
     "text": [
      "Error with ticker:  ZUS.U.TO  -  cannot access local variable 'tbl' where it is not associated with a value\n",
      "\u001bc"
     ]
    },
    {
     "name": "stderr",
     "output_type": "stream",
     "text": [
      "$ZUS.V.TO: possibly delisted; no timezone found\n"
     ]
    },
    {
     "name": "stdout",
     "output_type": "stream",
     "text": [
      "Error with ticker:  ZUS.V.TO  -  cannot access local variable 'tbl' where it is not associated with a value\n",
      "\u001bcZUT.TO\n",
      "\u001bcZVC.TO\n",
      "\u001bcZVI.TO\n",
      "\u001bcZVU.TO\n",
      "\u001bcZWA.TO\n",
      "\u001bcZWB.TO\n",
      "\u001bc"
     ]
    },
    {
     "name": "stderr",
     "output_type": "stream",
     "text": [
      "$ZWB.U.TO: possibly delisted; no timezone found\n"
     ]
    },
    {
     "name": "stdout",
     "output_type": "stream",
     "text": [
      "Error with ticker:  ZWB.U.TO  -  cannot access local variable 'tbl' where it is not associated with a value\n",
      "\u001bcZWC.TO\n",
      "\u001bcZWE.TO\n",
      "\u001bcZWEN.TO\n",
      "\u001bcZWG.TO\n",
      "\u001bcZWH.TO\n",
      "\u001bc"
     ]
    },
    {
     "name": "stderr",
     "output_type": "stream",
     "text": [
      "$ZWH.U.TO: possibly delisted; no timezone found\n"
     ]
    },
    {
     "name": "stdout",
     "output_type": "stream",
     "text": [
      "Error with ticker:  ZWH.U.TO  -  cannot access local variable 'tbl' where it is not associated with a value\n",
      "\u001bcZWHC.TO\n",
      "\u001bcZWK.TO\n",
      "\u001bcZWP.TO\n",
      "\u001bcZWS.TO\n",
      "\u001bcZWT.TO\n",
      "\u001bcZWU.TO\n",
      "\u001bcZXM.TO\n",
      "\u001bc"
     ]
    },
    {
     "name": "stderr",
     "output_type": "stream",
     "text": [
      "$ZXM.B.TO: possibly delisted; no timezone found\n"
     ]
    },
    {
     "name": "stdout",
     "output_type": "stream",
     "text": [
      "Error with ticker:  ZXM.B.TO  -  cannot access local variable 'tbl' where it is not associated with a value\n",
      "\u001bcZZZD.TO\n"
     ]
    }
   ],
   "source": [
    "import bydoux_tools as bt\n",
    "import numpy as np\n",
    "import matplotlib.pyplot as plt\n",
    "from astropy.table import Table\n",
    "\n",
    "tickers = bt.get_tsx(FNB=True)\n",
    "\n",
    "for i in range(len(tickers)):\n",
    "    # clear the screen\n",
    "\n",
    "    print(\"\\033c\", end=\"\")\n",
    "\n",
    "    try:\n",
    "        tbl1 = bt.read_quotes(tickers[i])\n",
    "\n",
    "        print(tickers[i])\n",
    "    except Exception as e:\n",
    "        print(\"Error with ticker: \", tickers[i], \" - \", str(e))\n",
    "        continue"
   ]
  }
 ],
 "metadata": {
  "kernelspec": {
   "display_name": "p3.12",
   "language": "python",
   "name": "python3"
  },
  "language_info": {
   "codemirror_mode": {
    "name": "ipython",
    "version": 3
   },
   "file_extension": ".py",
   "mimetype": "text/x-python",
   "name": "python",
   "nbconvert_exporter": "python",
   "pygments_lexer": "ipython3",
   "version": "3.12.2"
  }
 },
 "nbformat": 4,
 "nbformat_minor": 5
}
